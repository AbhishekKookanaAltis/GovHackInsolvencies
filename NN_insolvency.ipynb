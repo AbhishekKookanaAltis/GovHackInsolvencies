{
 "cells": [
  {
   "cell_type": "markdown",
   "metadata": {},
   "source": [
    "# <center> GovHack 2018 <center>\n",
    "\n",
    "## <center> Altis Consulting Canberra Team <center>"
   ]
  },
  {
   "cell_type": "markdown",
   "metadata": {},
   "source": [
    "# <center> Project: Insolvency, Facts vs Spin <center>"
   ]
  },
  {
   "cell_type": "markdown",
   "metadata": {},
   "source": [
    "##  <center> Jupyter Notebook 2/2 - Neural Network Classification (R,H2O) <center>"
   ]
  },
  {
   "cell_type": "markdown",
   "metadata": {},
   "source": [
    "## 1. Import Libraries & Files"
   ]
  },
  {
   "cell_type": "code",
   "execution_count": 1,
   "metadata": {},
   "outputs": [
    {
     "name": "stderr",
     "output_type": "stream",
     "text": [
      "Warning message:\n",
      "\"package 'ggplot2' was built under R version 3.4.4\"Warning message:\n",
      "\"package 'reshape2' was built under R version 3.4.4\"Warning message:\n",
      "\"package 'tm' was built under R version 3.4.4\"Loading required package: NLP\n",
      "\n",
      "Attaching package: 'NLP'\n",
      "\n",
      "The following object is masked from 'package:ggplot2':\n",
      "\n",
      "    annotate\n",
      "\n"
     ]
    }
   ],
   "source": [
    "# library imports\n",
    "library(mvtnorm) # generates multivariate Gaussian sampels and calculate the densities\n",
    "library(ggplot2) # plotting\n",
    "library(reshape2) # data wrangling!\n",
    "library(tm) # load Text Mining library\n",
    "library(reshape2) # for melt and cast functions\n",
    "set.seed(12345) # save the random seed to make the results reproducble"
   ]
  },
  {
   "cell_type": "code",
   "execution_count": 2,
   "metadata": {
    "collapsed": true
   },
   "outputs": [],
   "source": [
    "df_insolvency <- read.csv(\"one_hot_small_insolvency.csv\")"
   ]
  },
  {
   "cell_type": "markdown",
   "metadata": {},
   "source": [
    "## 2. Data Wrangling"
   ]
  },
  {
   "cell_type": "code",
   "execution_count": 4,
   "metadata": {
    "collapsed": true
   },
   "outputs": [],
   "source": [
    "# remove id column\n",
    "df_insolvency <- df_insolvency[,-1]"
   ]
  },
  {
   "cell_type": "code",
   "execution_count": 8,
   "metadata": {},
   "outputs": [
    {
     "data": {
      "text/html": [
       "<table>\n",
       "<thead><tr><th scope=col>Calendar.Year.of.Insolvency</th><th scope=col>SA3.of.Debtor_Adelaide.City</th><th scope=col>SA3.of.Debtor_Adelaide.Hills</th><th scope=col>SA3.of.Debtor_Albany</th><th scope=col>SA3.of.Debtor_Albury</th><th scope=col>SA3.of.Debtor_Alice.Springs</th><th scope=col>SA3.of.Debtor_Armadale</th><th scope=col>SA3.of.Debtor_Armidale</th><th scope=col>SA3.of.Debtor_Auburn</th><th scope=col>SA3.of.Debtor_Augusta...Margaret.River...Busselton</th><th scope=col>...</th><th scope=col>Value.of.Assets_.600000..649999</th><th scope=col>Value.of.Assets_.650000..699999</th><th scope=col>Value.of.Assets_.700000..749999</th><th scope=col>Value.of.Assets_.750000..799999</th><th scope=col>Value.of.Assets_.800000..849999</th><th scope=col>Value.of.Assets_.850000..899999</th><th scope=col>Value.of.Assets_.900000..949999</th><th scope=col>Value.of.Assets_.950000..999999</th><th scope=col>Value.of.Assets_More.Than..1000000</th><th scope=col>y</th></tr></thead>\n",
       "<tbody>\n",
       "\t<tr><td>2010</td><td>0   </td><td>0   </td><td>0   </td><td>0   </td><td>0   </td><td>0   </td><td>0   </td><td>0   </td><td>0   </td><td>... </td><td>0   </td><td>0   </td><td>0   </td><td>0   </td><td>0   </td><td>0   </td><td>0   </td><td>0   </td><td>0   </td><td>0   </td></tr>\n",
       "\t<tr><td>2011</td><td>0   </td><td>0   </td><td>0   </td><td>0   </td><td>0   </td><td>0   </td><td>0   </td><td>0   </td><td>0   </td><td>... </td><td>0   </td><td>0   </td><td>0   </td><td>0   </td><td>0   </td><td>0   </td><td>0   </td><td>0   </td><td>0   </td><td>0   </td></tr>\n",
       "\t<tr><td>2012</td><td>0   </td><td>0   </td><td>0   </td><td>0   </td><td>0   </td><td>0   </td><td>0   </td><td>0   </td><td>0   </td><td>... </td><td>0   </td><td>0   </td><td>0   </td><td>0   </td><td>0   </td><td>0   </td><td>0   </td><td>0   </td><td>0   </td><td>0   </td></tr>\n",
       "</tbody>\n",
       "</table>\n"
      ],
      "text/latex": [
       "\\begin{tabular}{r|llllllllllllllllllllllllllllllllllllllllllllllllllllllllllllllllllllllllllllllllllllllllllllllllllllllllllllllllllllllllllllllllllllllllllllllllllllllllllllllllllllllllllllllllllllllllllllllllllllllllllllllllllllllllllllllllllllllllllllllllllllllllllllllllllllllllllllllllllllllllllllllllllllllllllllllllllllllllllllllllllllllllllllllllllllllllllllllllllllllllllllllllllllllllllllllllllllllllllllllllllllllllllllllllllllllllllllllllllllllllllllllllllllllllllllllllllllllllllllllllllllllllllllllllllllllllllllllllllllllll}\n",
       " Calendar.Year.of.Insolvency & SA3.of.Debtor\\_Adelaide.City & SA3.of.Debtor\\_Adelaide.Hills & SA3.of.Debtor\\_Albany & SA3.of.Debtor\\_Albury & SA3.of.Debtor\\_Alice.Springs & SA3.of.Debtor\\_Armadale & SA3.of.Debtor\\_Armidale & SA3.of.Debtor\\_Auburn & SA3.of.Debtor\\_Augusta...Margaret.River...Busselton & ... & Value.of.Assets\\_.600000..649999 & Value.of.Assets\\_.650000..699999 & Value.of.Assets\\_.700000..749999 & Value.of.Assets\\_.750000..799999 & Value.of.Assets\\_.800000..849999 & Value.of.Assets\\_.850000..899999 & Value.of.Assets\\_.900000..949999 & Value.of.Assets\\_.950000..999999 & Value.of.Assets\\_More.Than..1000000 & y\\\\\n",
       "\\hline\n",
       "\t 2010 & 0    & 0    & 0    & 0    & 0    & 0    & 0    & 0    & 0    & ...  & 0    & 0    & 0    & 0    & 0    & 0    & 0    & 0    & 0    & 0   \\\\\n",
       "\t 2011 & 0    & 0    & 0    & 0    & 0    & 0    & 0    & 0    & 0    & ...  & 0    & 0    & 0    & 0    & 0    & 0    & 0    & 0    & 0    & 0   \\\\\n",
       "\t 2012 & 0    & 0    & 0    & 0    & 0    & 0    & 0    & 0    & 0    & ...  & 0    & 0    & 0    & 0    & 0    & 0    & 0    & 0    & 0    & 0   \\\\\n",
       "\\end{tabular}\n"
      ],
      "text/markdown": [
       "\n",
       "Calendar.Year.of.Insolvency | SA3.of.Debtor_Adelaide.City | SA3.of.Debtor_Adelaide.Hills | SA3.of.Debtor_Albany | SA3.of.Debtor_Albury | SA3.of.Debtor_Alice.Springs | SA3.of.Debtor_Armadale | SA3.of.Debtor_Armidale | SA3.of.Debtor_Auburn | SA3.of.Debtor_Augusta...Margaret.River...Busselton | ... | Value.of.Assets_.600000..649999 | Value.of.Assets_.650000..699999 | Value.of.Assets_.700000..749999 | Value.of.Assets_.750000..799999 | Value.of.Assets_.800000..849999 | Value.of.Assets_.850000..899999 | Value.of.Assets_.900000..949999 | Value.of.Assets_.950000..999999 | Value.of.Assets_More.Than..1000000 | y | \n",
       "|---|---|---|\n",
       "| 2010 | 0    | 0    | 0    | 0    | 0    | 0    | 0    | 0    | 0    | ...  | 0    | 0    | 0    | 0    | 0    | 0    | 0    | 0    | 0    | 0    | \n",
       "| 2011 | 0    | 0    | 0    | 0    | 0    | 0    | 0    | 0    | 0    | ...  | 0    | 0    | 0    | 0    | 0    | 0    | 0    | 0    | 0    | 0    | \n",
       "| 2012 | 0    | 0    | 0    | 0    | 0    | 0    | 0    | 0    | 0    | ...  | 0    | 0    | 0    | 0    | 0    | 0    | 0    | 0    | 0    | 0    | \n",
       "\n",
       "\n"
      ],
      "text/plain": [
       "  Calendar.Year.of.Insolvency SA3.of.Debtor_Adelaide.City\n",
       "1 2010                        0                          \n",
       "2 2011                        0                          \n",
       "3 2012                        0                          \n",
       "  SA3.of.Debtor_Adelaide.Hills SA3.of.Debtor_Albany SA3.of.Debtor_Albury\n",
       "1 0                            0                    0                   \n",
       "2 0                            0                    0                   \n",
       "3 0                            0                    0                   \n",
       "  SA3.of.Debtor_Alice.Springs SA3.of.Debtor_Armadale SA3.of.Debtor_Armidale\n",
       "1 0                           0                      0                     \n",
       "2 0                           0                      0                     \n",
       "3 0                           0                      0                     \n",
       "  SA3.of.Debtor_Auburn SA3.of.Debtor_Augusta...Margaret.River...Busselton ...\n",
       "1 0                    0                                                  ...\n",
       "2 0                    0                                                  ...\n",
       "3 0                    0                                                  ...\n",
       "  Value.of.Assets_.600000..649999 Value.of.Assets_.650000..699999\n",
       "1 0                               0                              \n",
       "2 0                               0                              \n",
       "3 0                               0                              \n",
       "  Value.of.Assets_.700000..749999 Value.of.Assets_.750000..799999\n",
       "1 0                               0                              \n",
       "2 0                               0                              \n",
       "3 0                               0                              \n",
       "  Value.of.Assets_.800000..849999 Value.of.Assets_.850000..899999\n",
       "1 0                               0                              \n",
       "2 0                               0                              \n",
       "3 0                               0                              \n",
       "  Value.of.Assets_.900000..949999 Value.of.Assets_.950000..999999\n",
       "1 0                               0                              \n",
       "2 0                               0                              \n",
       "3 0                               0                              \n",
       "  Value.of.Assets_More.Than..1000000 y\n",
       "1 0                                  0\n",
       "2 0                                  0\n",
       "3 0                                  0"
      ]
     },
     "metadata": {},
     "output_type": "display_data"
    }
   ],
   "source": [
    "head(df_insolvency,3)"
   ]
  },
  {
   "cell_type": "code",
   "execution_count": 9,
   "metadata": {},
   "outputs": [
    {
     "name": "stderr",
     "output_type": "stream",
     "text": [
      "Warning message:\n",
      "\"package 'caTools' was built under R version 3.4.4\""
     ]
    }
   ],
   "source": [
    "library(caTools)"
   ]
  },
  {
   "cell_type": "markdown",
   "metadata": {},
   "source": [
    "### Split 1 - Training vs Test Sets"
   ]
  },
  {
   "cell_type": "code",
   "execution_count": 10,
   "metadata": {
    "collapsed": true
   },
   "outputs": [],
   "source": [
    "split = sample.split(df_insolvency$y, SplitRatio = 0.8)"
   ]
  },
  {
   "cell_type": "code",
   "execution_count": 11,
   "metadata": {
    "collapsed": true
   },
   "outputs": [],
   "source": [
    "training_set = subset(df_insolvency, split == TRUE)\n",
    "test_set = subset(df_insolvency, split == FALSE)"
   ]
  },
  {
   "cell_type": "code",
   "execution_count": 12,
   "metadata": {
    "collapsed": true
   },
   "outputs": [],
   "source": [
    "training_set <- training_set[sample(nrow(training_set)),]"
   ]
  },
  {
   "cell_type": "code",
   "execution_count": 13,
   "metadata": {},
   "outputs": [
    {
     "data": {
      "text/html": [
       "<ol class=list-inline>\n",
       "\t<li>285200</li>\n",
       "\t<li>520</li>\n",
       "</ol>\n"
      ],
      "text/latex": [
       "\\begin{enumerate*}\n",
       "\\item 285200\n",
       "\\item 520\n",
       "\\end{enumerate*}\n"
      ],
      "text/markdown": [
       "1. 285200\n",
       "2. 520\n",
       "\n",
       "\n"
      ],
      "text/plain": [
       "[1] 285200    520"
      ]
     },
     "metadata": {},
     "output_type": "display_data"
    }
   ],
   "source": [
    "dim(training_set)"
   ]
  },
  {
   "cell_type": "code",
   "execution_count": 14,
   "metadata": {},
   "outputs": [
    {
     "data": {
      "text/plain": [
       "\n",
       "     0      1 \n",
       "273286  11914 "
      ]
     },
     "metadata": {},
     "output_type": "display_data"
    }
   ],
   "source": [
    "table(training_set$y)"
   ]
  },
  {
   "cell_type": "markdown",
   "metadata": {},
   "source": [
    "### Split 2 - Resample vs Nochange For Training Set"
   ]
  },
  {
   "cell_type": "code",
   "execution_count": 15,
   "metadata": {
    "collapsed": true
   },
   "outputs": [],
   "source": [
    "split2.ratio <- 0.3"
   ]
  },
  {
   "cell_type": "code",
   "execution_count": 16,
   "metadata": {
    "collapsed": true
   },
   "outputs": [],
   "source": [
    "split2 = sample.split(training_set$y, SplitRatio = split2.ratio)"
   ]
  },
  {
   "cell_type": "code",
   "execution_count": 17,
   "metadata": {
    "collapsed": true
   },
   "outputs": [],
   "source": [
    "training_set_change = subset(training_set, split2 == TRUE)\n",
    "training_set_nochange = subset(training_set, split2 == FALSE)"
   ]
  },
  {
   "cell_type": "markdown",
   "metadata": {},
   "source": [
    "### Split 3 - Upsample vs Downsample For Resample Set"
   ]
  },
  {
   "cell_type": "code",
   "execution_count": 19,
   "metadata": {
    "collapsed": true
   },
   "outputs": [],
   "source": [
    "split3.ratio.up <- 0.5"
   ]
  },
  {
   "cell_type": "code",
   "execution_count": 20,
   "metadata": {
    "collapsed": true
   },
   "outputs": [],
   "source": [
    "split3 = sample.split(training_set_change$y, SplitRatio = split3.ratio.up)"
   ]
  },
  {
   "cell_type": "code",
   "execution_count": 21,
   "metadata": {
    "collapsed": true
   },
   "outputs": [],
   "source": [
    "training_set_upsample = subset(training_set_change, split3 == TRUE)\n",
    "training_set_downsample = subset(training_set_change, split3 == FALSE)"
   ]
  },
  {
   "cell_type": "code",
   "execution_count": 22,
   "metadata": {},
   "outputs": [
    {
     "data": {
      "text/html": [
       "<ol class=list-inline>\n",
       "\t<li>42780</li>\n",
       "\t<li>520</li>\n",
       "</ol>\n"
      ],
      "text/latex": [
       "\\begin{enumerate*}\n",
       "\\item 42780\n",
       "\\item 520\n",
       "\\end{enumerate*}\n"
      ],
      "text/markdown": [
       "1. 42780\n",
       "2. 520\n",
       "\n",
       "\n"
      ],
      "text/plain": [
       "[1] 42780   520"
      ]
     },
     "metadata": {},
     "output_type": "display_data"
    },
    {
     "data": {
      "text/html": [
       "<ol class=list-inline>\n",
       "\t<li>42780</li>\n",
       "\t<li>520</li>\n",
       "</ol>\n"
      ],
      "text/latex": [
       "\\begin{enumerate*}\n",
       "\\item 42780\n",
       "\\item 520\n",
       "\\end{enumerate*}\n"
      ],
      "text/markdown": [
       "1. 42780\n",
       "2. 520\n",
       "\n",
       "\n"
      ],
      "text/plain": [
       "[1] 42780   520"
      ]
     },
     "metadata": {},
     "output_type": "display_data"
    }
   ],
   "source": [
    "dim(training_set_upsample)\n",
    "dim(training_set_downsample)"
   ]
  },
  {
   "cell_type": "code",
   "execution_count": 24,
   "metadata": {},
   "outputs": [
    {
     "name": "stderr",
     "output_type": "stream",
     "text": [
      "Warning message:\n",
      "\"package 'caret' was built under R version 3.4.4\"Loading required package: lattice\n"
     ]
    }
   ],
   "source": [
    "library(caret)"
   ]
  },
  {
   "cell_type": "code",
   "execution_count": 25,
   "metadata": {
    "collapsed": true
   },
   "outputs": [],
   "source": [
    "training_set_upsample$y <- as.factor(training_set_upsample$y)\n",
    "training_set_downsample$y <- as.factor(training_set_downsample$y)"
   ]
  },
  {
   "cell_type": "code",
   "execution_count": 26,
   "metadata": {
    "collapsed": true
   },
   "outputs": [],
   "source": [
    "training_set_downsample <- downSample(x = training_set_downsample,\n",
    "                         y = training_set_downsample$y)"
   ]
  },
  {
   "cell_type": "code",
   "execution_count": 27,
   "metadata": {},
   "outputs": [
    {
     "data": {
      "text/html": [
       "<ol class=list-inline>\n",
       "\t<li>3574</li>\n",
       "\t<li>520</li>\n",
       "</ol>\n"
      ],
      "text/latex": [
       "\\begin{enumerate*}\n",
       "\\item 3574\n",
       "\\item 520\n",
       "\\end{enumerate*}\n"
      ],
      "text/markdown": [
       "1. 3574\n",
       "2. 520\n",
       "\n",
       "\n"
      ],
      "text/plain": [
       "[1] 3574  520"
      ]
     },
     "metadata": {},
     "output_type": "display_data"
    }
   ],
   "source": [
    "dim(training_set_downsample)"
   ]
  },
  {
   "cell_type": "code",
   "execution_count": 28,
   "metadata": {},
   "outputs": [
    {
     "data": {
      "text/plain": [
       "\n",
       "   0    1 \n",
       "1787 1787 "
      ]
     },
     "metadata": {},
     "output_type": "display_data"
    }
   ],
   "source": [
    "table(training_set_downsample$Class)"
   ]
  },
  {
   "cell_type": "code",
   "execution_count": 29,
   "metadata": {
    "collapsed": true
   },
   "outputs": [],
   "source": [
    "training_set_upsample <- upSample(x = training_set_upsample,\n",
    "                         y = training_set_upsample$y)"
   ]
  },
  {
   "cell_type": "code",
   "execution_count": 30,
   "metadata": {},
   "outputs": [
    {
     "data": {
      "text/html": [
       "<ol class=list-inline>\n",
       "\t<li>81986</li>\n",
       "\t<li>520</li>\n",
       "</ol>\n"
      ],
      "text/latex": [
       "\\begin{enumerate*}\n",
       "\\item 81986\n",
       "\\item 520\n",
       "\\end{enumerate*}\n"
      ],
      "text/markdown": [
       "1. 81986\n",
       "2. 520\n",
       "\n",
       "\n"
      ],
      "text/plain": [
       "[1] 81986   520"
      ]
     },
     "metadata": {},
     "output_type": "display_data"
    }
   ],
   "source": [
    "dim(training_set_upsample)"
   ]
  },
  {
   "cell_type": "code",
   "execution_count": 31,
   "metadata": {},
   "outputs": [
    {
     "data": {
      "text/plain": [
       "\n",
       "    0     1 \n",
       "40993 40993 "
      ]
     },
     "metadata": {},
     "output_type": "display_data"
    }
   ],
   "source": [
    "table(training_set_upsample$Class)"
   ]
  },
  {
   "cell_type": "markdown",
   "metadata": {},
   "source": [
    "### Recombine Upsample and Downsample Into Resample Training Set"
   ]
  },
  {
   "cell_type": "code",
   "execution_count": 32,
   "metadata": {
    "collapsed": true
   },
   "outputs": [],
   "source": [
    "training_set_change <- rbind(training_set_upsample,training_set_downsample)"
   ]
  },
  {
   "cell_type": "code",
   "execution_count": 33,
   "metadata": {},
   "outputs": [
    {
     "data": {
      "text/plain": [
       "\n",
       "    0     1 \n",
       "42780 42780 "
      ]
     },
     "metadata": {},
     "output_type": "display_data"
    }
   ],
   "source": [
    "table(training_set_change$Class)"
   ]
  },
  {
   "cell_type": "code",
   "execution_count": 34,
   "metadata": {
    "collapsed": true
   },
   "outputs": [],
   "source": [
    "training_set_change <- training_set_change[sample(nrow(training_set_change)),]"
   ]
  },
  {
   "cell_type": "code",
   "execution_count": 35,
   "metadata": {
    "collapsed": true
   },
   "outputs": [],
   "source": [
    "names(training_set_change)[ncol(training_set_change)] <- 'y'"
   ]
  },
  {
   "cell_type": "code",
   "execution_count": 36,
   "metadata": {},
   "outputs": [
    {
     "data": {
      "text/plain": [
       "\n",
       "    0     1 \n",
       "42780 42780 "
      ]
     },
     "metadata": {},
     "output_type": "display_data"
    }
   ],
   "source": [
    "table(training_set_change$y)"
   ]
  },
  {
   "cell_type": "markdown",
   "metadata": {},
   "source": [
    "### Recombine Resample and No Change Into Training Set"
   ]
  },
  {
   "cell_type": "code",
   "execution_count": 37,
   "metadata": {
    "collapsed": true
   },
   "outputs": [],
   "source": [
    "training_set <- rbind(training_set_change,training_set_nochange)"
   ]
  },
  {
   "cell_type": "code",
   "execution_count": 38,
   "metadata": {
    "collapsed": true
   },
   "outputs": [],
   "source": [
    "training_set <- training_set[sample(nrow(training_set)),]"
   ]
  },
  {
   "cell_type": "code",
   "execution_count": 39,
   "metadata": {
    "collapsed": true
   },
   "outputs": [],
   "source": [
    "#head(training_set,3)"
   ]
  },
  {
   "cell_type": "code",
   "execution_count": 40,
   "metadata": {},
   "outputs": [
    {
     "data": {
      "text/plain": [
       "\n",
       "     0      1 \n",
       "234080  51120 "
      ]
     },
     "metadata": {},
     "output_type": "display_data"
    }
   ],
   "source": [
    "table(training_set$y)"
   ]
  },
  {
   "cell_type": "code",
   "execution_count": null,
   "metadata": {
    "collapsed": true
   },
   "outputs": [],
   "source": []
  },
  {
   "cell_type": "code",
   "execution_count": null,
   "metadata": {
    "collapsed": true
   },
   "outputs": [],
   "source": []
  },
  {
   "cell_type": "markdown",
   "metadata": {},
   "source": [
    "## 3. H2O For Neural Networks"
   ]
  },
  {
   "cell_type": "code",
   "execution_count": 41,
   "metadata": {},
   "outputs": [
    {
     "name": "stderr",
     "output_type": "stream",
     "text": [
      "\n",
      "----------------------------------------------------------------------\n",
      "\n",
      "Your next step is to start H2O:\n",
      "    > h2o.init()\n",
      "\n",
      "For H2O package documentation, ask for help:\n",
      "    > ??h2o\n",
      "\n",
      "After starting H2O, you can use the Web UI at http://localhost:54321\n",
      "For more information visit http://docs.h2o.ai\n",
      "\n",
      "----------------------------------------------------------------------\n",
      "\n",
      "\n",
      "Attaching package: 'h2o'\n",
      "\n",
      "The following objects are masked from 'package:stats':\n",
      "\n",
      "    cor, sd, var\n",
      "\n",
      "The following objects are masked from 'package:base':\n",
      "\n",
      "    %*%, %in%, &&, ||, apply, as.factor, as.numeric, colnames,\n",
      "    colnames<-, ifelse, is.character, is.factor, is.numeric, log,\n",
      "    log10, log1p, log2, round, signif, trunc\n",
      "\n"
     ]
    }
   ],
   "source": [
    "options(warn=-1)\n",
    "library(h2o)"
   ]
  },
  {
   "cell_type": "code",
   "execution_count": 42,
   "metadata": {},
   "outputs": [
    {
     "name": "stdout",
     "output_type": "stream",
     "text": [
      " Connection successful!\n",
      "\n",
      "R is connected to the H2O cluster: \n",
      "    H2O cluster uptime:         5 minutes 38 seconds \n",
      "    H2O cluster timezone:       Australia/Sydney \n",
      "    H2O data parsing timezone:  UTC \n",
      "    H2O cluster version:        3.20.0.3 \n",
      "    H2O cluster version age:    1 month and 29 days  \n",
      "    H2O cluster name:           H2O_started_from_R_deepthoughtthinking_dzu677 \n",
      "    H2O cluster total nodes:    1 \n",
      "    H2O cluster total memory:   0.64 GB \n",
      "    H2O cluster total cores:    8 \n",
      "    H2O cluster allowed cores:  8 \n",
      "    H2O cluster healthy:        TRUE \n",
      "    H2O Connection ip:          localhost \n",
      "    H2O Connection port:        54321 \n",
      "    H2O Connection proxy:       NA \n",
      "    H2O Internal Security:      FALSE \n",
      "    H2O API Extensions:         Algos, AutoML, Core V3, Core V4 \n",
      "    R Version:                  R version 3.4.3 (2017-11-30) \n",
      "\n"
     ]
    }
   ],
   "source": [
    "# If there is a proxy: proxy.old <- Sys.getenv('http_proxy'); Sys.setenv('http_proxy'='');\n",
    "# You may need to change the h2o.inint paramter values\n",
    "#localH2O =  h2o.init(nthreads = -1, port = 54321, max_mem_size = '6G', startH2O = TRUE)\n",
    "h2o.init(nthreads = -1)"
   ]
  },
  {
   "cell_type": "code",
   "execution_count": 43,
   "metadata": {},
   "outputs": [
    {
     "name": "stdout",
     "output_type": "stream",
     "text": [
      "  |======================================================================| 100%\n"
     ]
    }
   ],
   "source": [
    "train.data.h2o <- as.h2o(training_set)"
   ]
  },
  {
   "cell_type": "code",
   "execution_count": 44,
   "metadata": {},
   "outputs": [
    {
     "data": {
      "text/html": [
       "<ol class=list-inline>\n",
       "\t<li>285200</li>\n",
       "\t<li>520</li>\n",
       "</ol>\n"
      ],
      "text/latex": [
       "\\begin{enumerate*}\n",
       "\\item 285200\n",
       "\\item 520\n",
       "\\end{enumerate*}\n"
      ],
      "text/markdown": [
       "1. 285200\n",
       "2. 520\n",
       "\n",
       "\n"
      ],
      "text/plain": [
       "[1] 285200    520"
      ]
     },
     "metadata": {},
     "output_type": "display_data"
    }
   ],
   "source": [
    "dim(train.data.h2o)"
   ]
  },
  {
   "cell_type": "code",
   "execution_count": 45,
   "metadata": {},
   "outputs": [
    {
     "name": "stdout",
     "output_type": "stream",
     "text": [
      "  |======================================================================| 100%\n"
     ]
    }
   ],
   "source": [
    "test.data.h2o <-as.h2o(test_set)"
   ]
  },
  {
   "cell_type": "code",
   "execution_count": 46,
   "metadata": {},
   "outputs": [
    {
     "data": {
      "text/html": [
       "<ol class=list-inline>\n",
       "\t<li>71300</li>\n",
       "\t<li>520</li>\n",
       "</ol>\n"
      ],
      "text/latex": [
       "\\begin{enumerate*}\n",
       "\\item 71300\n",
       "\\item 520\n",
       "\\end{enumerate*}\n"
      ],
      "text/markdown": [
       "1. 71300\n",
       "2. 520\n",
       "\n",
       "\n"
      ],
      "text/plain": [
       "[1] 71300   520"
      ]
     },
     "metadata": {},
     "output_type": "display_data"
    }
   ],
   "source": [
    "dim(test.data.h2o)"
   ]
  },
  {
   "cell_type": "code",
   "execution_count": null,
   "metadata": {
    "collapsed": true
   },
   "outputs": [],
   "source": []
  },
  {
   "cell_type": "code",
   "execution_count": 47,
   "metadata": {
    "collapsed": true
   },
   "outputs": [],
   "source": [
    "# Convert target variables to factors\n",
    "train.data.h2o[,'y'] <- as.factor(train.data.h2o[,'y'])\n",
    "test.data.h2o[,'y'] <- as.factor(test.data.h2o[,'y'])"
   ]
  },
  {
   "cell_type": "code",
   "execution_count": null,
   "metadata": {
    "collapsed": true
   },
   "outputs": [],
   "source": []
  },
  {
   "cell_type": "markdown",
   "metadata": {
    "collapsed": true
   },
   "source": [
    "### Train Neural Network\n",
    "\n",
    "Layer 1: 60 neurons\n",
    "\n",
    "Layer 2: 20 neurons\n",
    "\n",
    "Layer 3: 10 neurons"
   ]
  },
  {
   "cell_type": "code",
   "execution_count": 157,
   "metadata": {
    "scrolled": true
   },
   "outputs": [
    {
     "name": "stdout",
     "output_type": "stream",
     "text": [
      "[1] \"k= 60\"\n",
      "  |======================================================================| 100%\n",
      "  |======================================================================| 100%\n",
      "  |======================================================================| 100%\n"
     ]
    }
   ],
   "source": [
    "# Train Neural Network\n",
    "K <- c(60)\n",
    "NN.epochs <-100\n",
    "\n",
    "nn.model.evaluation <- data.frame(\n",
    "    k=K, train.accuracy=rep(0, length(K)), test.accuracy=rep(0, length(K)))\n",
    "\n",
    "best.prediction <- NULL\n",
    "best.accuracy <- 0\n",
    "best.k <- NULL\n",
    "for (k in K) {\n",
    "    \n",
    "    print(paste('k=',k))\n",
    "    flush.console()\n",
    "    \n",
    "    mdl <- h2o.deeplearning(    \n",
    "    y = 'y',\n",
    "    training_frame = train.data.h2o,   \n",
    "    hidden = c(k,20,10), # number of layers and their units\n",
    "    epochs = NN.epochs, # maximum number of epoches  \n",
    "    activation = 'Tanh', # activation function \n",
    "    autoencoder = FALSE  \n",
    "                              )\n",
    "    \n",
    "    test.pred <- h2o.predict(mdl, test.data.h2o)$predict\n",
    "    train.pred <- h2o.predict(mdl, train.data.h2o)$predict\n",
    "    test.results <- cbind(as.data.frame(test.data.h2o), predict=as.matrix(test.pred))\n",
    "    train.results <- cbind(as.data.frame(train.data.h2o), predict=as.matrix(train.pred))\n",
    "    accuracy.test <- sum(test.results$y == test.results$predict) / nrow(test.results)\n",
    "    accuracy.train <- sum(train.results$y == train.results$predict) / nrow(train.results)\n",
    "    \n",
    "    nn.model.evaluation[nn.model.evaluation$k==k,] <- c(k, accuracy.train, accuracy.test)\n",
    "    \n",
    "    # Find and record best k and test results\n",
    "    if (accuracy.test > best.accuracy) {\n",
    "        best.accuracy <- accuracy.test\n",
    "        best.prediction <- test.results\n",
    "        best.k <- k\n",
    "    }\n",
    "}"
   ]
  },
  {
   "cell_type": "code",
   "execution_count": 159,
   "metadata": {},
   "outputs": [
    {
     "data": {
      "text/html": [
       "<table>\n",
       "<thead><tr><th scope=col>k</th><th scope=col>train.accuracy</th><th scope=col>test.accuracy</th></tr></thead>\n",
       "<tbody>\n",
       "\t<tr><td>60       </td><td>0.9411185</td><td>0.9326648</td></tr>\n",
       "</tbody>\n",
       "</table>\n"
      ],
      "text/latex": [
       "\\begin{tabular}{r|lll}\n",
       " k & train.accuracy & test.accuracy\\\\\n",
       "\\hline\n",
       "\t 60        & 0.9411185 & 0.9326648\\\\\n",
       "\\end{tabular}\n"
      ],
      "text/markdown": [
       "\n",
       "k | train.accuracy | test.accuracy | \n",
       "|---|\n",
       "| 60        | 0.9411185 | 0.9326648 | \n",
       "\n",
       "\n"
      ],
      "text/plain": [
       "  k  train.accuracy test.accuracy\n",
       "1 60 0.9411185      0.9326648    "
      ]
     },
     "metadata": {},
     "output_type": "display_data"
    }
   ],
   "source": [
    "nn.model.evaluation"
   ]
  },
  {
   "cell_type": "markdown",
   "metadata": {},
   "source": [
    "## 4. Results"
   ]
  },
  {
   "cell_type": "markdown",
   "metadata": {},
   "source": [
    "We have two main ways to assess the model\n",
    "\n",
    "1. Visualisation of decision boundary for final layer of the model \n",
    "2. Confusion matrix to calculate accuracy, precision and recall"
   ]
  },
  {
   "cell_type": "markdown",
   "metadata": {},
   "source": [
    "### 4.1 Visualisation of Decision Boundary"
   ]
  },
  {
   "cell_type": "markdown",
   "metadata": {},
   "source": [
    "$1.$ Extract final layer neuron values for each record in training and test sets"
   ]
  },
  {
   "cell_type": "code",
   "execution_count": 160,
   "metadata": {},
   "outputs": [
    {
     "name": "stdout",
     "output_type": "stream",
     "text": [
      "  |======================================================================| 100%\n",
      "  |======================================================================| 100%\n"
     ]
    }
   ],
   "source": [
    "PCA_train_data = as.matrix(h2o.deepfeatures(mdl, train.data.h2o, layer=2))\n",
    "PCA_test_data = as.matrix(h2o.deepfeatures(mdl, test.data.h2o, layer=2))"
   ]
  },
  {
   "cell_type": "code",
   "execution_count": 161,
   "metadata": {},
   "outputs": [
    {
     "data": {
      "text/html": [
       "<table>\n",
       "<thead><tr><th scope=col>DF.L2.C1</th><th scope=col>DF.L2.C2</th><th scope=col>DF.L2.C3</th><th scope=col>DF.L2.C4</th><th scope=col>DF.L2.C5</th><th scope=col>DF.L2.C6</th><th scope=col>DF.L2.C7</th><th scope=col>DF.L2.C8</th><th scope=col>DF.L2.C9</th><th scope=col>DF.L2.C10</th><th scope=col>DF.L2.C11</th><th scope=col>DF.L2.C12</th><th scope=col>DF.L2.C13</th><th scope=col>DF.L2.C14</th><th scope=col>DF.L2.C15</th><th scope=col>DF.L2.C16</th><th scope=col>DF.L2.C17</th><th scope=col>DF.L2.C18</th><th scope=col>DF.L2.C19</th><th scope=col>DF.L2.C20</th></tr></thead>\n",
       "<tbody>\n",
       "\t<tr><td> 0.9285048 </td><td>-0.8861272 </td><td> 0.7384235 </td><td>-0.6519884 </td><td>-0.9983142 </td><td>-0.7218669 </td><td>-0.5066889 </td><td>-0.9998565 </td><td> 0.9991528 </td><td>-0.9692044 </td><td>0.9992931  </td><td>0.9997121  </td><td>-0.96946371</td><td>-0.9587305 </td><td> 0.9887414 </td><td>-0.8885634 </td><td> 0.9999452 </td><td>-0.9996011 </td><td> 0.9957438 </td><td>-0.9959745 </td></tr>\n",
       "\t<tr><td>-0.8017036 </td><td> 0.2554532 </td><td> 0.9488822 </td><td>-0.9998885 </td><td> 0.8846414 </td><td> 0.6906497 </td><td>-0.1178115 </td><td> 0.9997208 </td><td> 0.9999997 </td><td>-0.9758054 </td><td>0.9319003  </td><td>0.7821016  </td><td> 0.06545768</td><td> 0.9462491 </td><td> 0.9846393 </td><td> 0.9996435 </td><td> 0.9981272 </td><td> 0.6189271 </td><td> 0.9772623 </td><td>-0.9919511 </td></tr>\n",
       "\t<tr><td> 0.9983573 </td><td> 0.9891941 </td><td>-0.2861802 </td><td> 0.6766267 </td><td>-0.9999875 </td><td>-0.9997121 </td><td>-0.9991482 </td><td> 0.9998559 </td><td>-0.9999999 </td><td> 0.9858663 </td><td>0.9997460  </td><td>0.9988519  </td><td>-0.99941955</td><td>-0.9923087 </td><td>-0.5556871 </td><td>-0.8639677 </td><td>-0.9999756 </td><td>-0.9794989 </td><td>-0.5921063 </td><td>-0.9990834 </td></tr>\n",
       "</tbody>\n",
       "</table>\n"
      ],
      "text/latex": [
       "\\begin{tabular}{llllllllllllllllllll}\n",
       " DF.L2.C1 & DF.L2.C2 & DF.L2.C3 & DF.L2.C4 & DF.L2.C5 & DF.L2.C6 & DF.L2.C7 & DF.L2.C8 & DF.L2.C9 & DF.L2.C10 & DF.L2.C11 & DF.L2.C12 & DF.L2.C13 & DF.L2.C14 & DF.L2.C15 & DF.L2.C16 & DF.L2.C17 & DF.L2.C18 & DF.L2.C19 & DF.L2.C20\\\\\n",
       "\\hline\n",
       "\t  0.9285048  & -0.8861272  &  0.7384235  & -0.6519884  & -0.9983142  & -0.7218669  & -0.5066889  & -0.9998565  &  0.9991528  & -0.9692044  & 0.9992931   & 0.9997121   & -0.96946371 & -0.9587305  &  0.9887414  & -0.8885634  &  0.9999452  & -0.9996011  &  0.9957438  & -0.9959745 \\\\\n",
       "\t -0.8017036  &  0.2554532  &  0.9488822  & -0.9998885  &  0.8846414  &  0.6906497  & -0.1178115  &  0.9997208  &  0.9999997  & -0.9758054  & 0.9319003   & 0.7821016   &  0.06545768 &  0.9462491  &  0.9846393  &  0.9996435  &  0.9981272  &  0.6189271  &  0.9772623  & -0.9919511 \\\\\n",
       "\t  0.9983573  &  0.9891941  & -0.2861802  &  0.6766267  & -0.9999875  & -0.9997121  & -0.9991482  &  0.9998559  & -0.9999999  &  0.9858663  & 0.9997460   & 0.9988519   & -0.99941955 & -0.9923087  & -0.5556871  & -0.8639677  & -0.9999756  & -0.9794989  & -0.5921063  & -0.9990834 \\\\\n",
       "\\end{tabular}\n"
      ],
      "text/markdown": [
       "\n",
       "DF.L2.C1 | DF.L2.C2 | DF.L2.C3 | DF.L2.C4 | DF.L2.C5 | DF.L2.C6 | DF.L2.C7 | DF.L2.C8 | DF.L2.C9 | DF.L2.C10 | DF.L2.C11 | DF.L2.C12 | DF.L2.C13 | DF.L2.C14 | DF.L2.C15 | DF.L2.C16 | DF.L2.C17 | DF.L2.C18 | DF.L2.C19 | DF.L2.C20 | \n",
       "|---|---|---|\n",
       "|  0.9285048  | -0.8861272  |  0.7384235  | -0.6519884  | -0.9983142  | -0.7218669  | -0.5066889  | -0.9998565  |  0.9991528  | -0.9692044  | 0.9992931   | 0.9997121   | -0.96946371 | -0.9587305  |  0.9887414  | -0.8885634  |  0.9999452  | -0.9996011  |  0.9957438  | -0.9959745  | \n",
       "| -0.8017036  |  0.2554532  |  0.9488822  | -0.9998885  |  0.8846414  |  0.6906497  | -0.1178115  |  0.9997208  |  0.9999997  | -0.9758054  | 0.9319003   | 0.7821016   |  0.06545768 |  0.9462491  |  0.9846393  |  0.9996435  |  0.9981272  |  0.6189271  |  0.9772623  | -0.9919511  | \n",
       "|  0.9983573  |  0.9891941  | -0.2861802  |  0.6766267  | -0.9999875  | -0.9997121  | -0.9991482  |  0.9998559  | -0.9999999  |  0.9858663  | 0.9997460   | 0.9988519   | -0.99941955 | -0.9923087  | -0.5556871  | -0.8639677  | -0.9999756  | -0.9794989  | -0.5921063  | -0.9990834  | \n",
       "\n",
       "\n"
      ],
      "text/plain": [
       "     DF.L2.C1   DF.L2.C2   DF.L2.C3   DF.L2.C4   DF.L2.C5   DF.L2.C6  \n",
       "[1,]  0.9285048 -0.8861272  0.7384235 -0.6519884 -0.9983142 -0.7218669\n",
       "[2,] -0.8017036  0.2554532  0.9488822 -0.9998885  0.8846414  0.6906497\n",
       "[3,]  0.9983573  0.9891941 -0.2861802  0.6766267 -0.9999875 -0.9997121\n",
       "     DF.L2.C7   DF.L2.C8   DF.L2.C9   DF.L2.C10  DF.L2.C11 DF.L2.C12\n",
       "[1,] -0.5066889 -0.9998565  0.9991528 -0.9692044 0.9992931 0.9997121\n",
       "[2,] -0.1178115  0.9997208  0.9999997 -0.9758054 0.9319003 0.7821016\n",
       "[3,] -0.9991482  0.9998559 -0.9999999  0.9858663 0.9997460 0.9988519\n",
       "     DF.L2.C13   DF.L2.C14  DF.L2.C15  DF.L2.C16  DF.L2.C17  DF.L2.C18 \n",
       "[1,] -0.96946371 -0.9587305  0.9887414 -0.8885634  0.9999452 -0.9996011\n",
       "[2,]  0.06545768  0.9462491  0.9846393  0.9996435  0.9981272  0.6189271\n",
       "[3,] -0.99941955 -0.9923087 -0.5556871 -0.8639677 -0.9999756 -0.9794989\n",
       "     DF.L2.C19  DF.L2.C20 \n",
       "[1,]  0.9957438 -0.9959745\n",
       "[2,]  0.9772623 -0.9919511\n",
       "[3,] -0.5921063 -0.9990834"
      ]
     },
     "metadata": {},
     "output_type": "display_data"
    }
   ],
   "source": [
    "head(PCA_train_data,3)"
   ]
  },
  {
   "cell_type": "code",
   "execution_count": 162,
   "metadata": {},
   "outputs": [
    {
     "data": {
      "text/html": [
       "<ol class=list-inline>\n",
       "\t<li>285200</li>\n",
       "\t<li>20</li>\n",
       "</ol>\n"
      ],
      "text/latex": [
       "\\begin{enumerate*}\n",
       "\\item 285200\n",
       "\\item 20\n",
       "\\end{enumerate*}\n"
      ],
      "text/markdown": [
       "1. 285200\n",
       "2. 20\n",
       "\n",
       "\n"
      ],
      "text/plain": [
       "[1] 285200     20"
      ]
     },
     "metadata": {},
     "output_type": "display_data"
    }
   ],
   "source": [
    "dim(PCA_train_data)"
   ]
  },
  {
   "cell_type": "code",
   "execution_count": 163,
   "metadata": {},
   "outputs": [
    {
     "data": {
      "text/html": [
       "<ol class=list-inline>\n",
       "\t<li>71300</li>\n",
       "\t<li>20</li>\n",
       "</ol>\n"
      ],
      "text/latex": [
       "\\begin{enumerate*}\n",
       "\\item 71300\n",
       "\\item 20\n",
       "\\end{enumerate*}\n"
      ],
      "text/markdown": [
       "1. 71300\n",
       "2. 20\n",
       "\n",
       "\n"
      ],
      "text/plain": [
       "[1] 71300    20"
      ]
     },
     "metadata": {},
     "output_type": "display_data"
    }
   ],
   "source": [
    "dim(PCA_test_data)"
   ]
  },
  {
   "cell_type": "code",
   "execution_count": 164,
   "metadata": {
    "collapsed": true
   },
   "outputs": [],
   "source": [
    "df_for_PCA_train <- as.data.frame(PCA_train_data)\n",
    "df_for_PCA_test <- as.data.frame(PCA_test_data)"
   ]
  },
  {
   "cell_type": "markdown",
   "metadata": {},
   "source": [
    "$2.$ Perform PCA (Principal Component Analysis) with 2 dimensions to create a 2D decision boundary plot"
   ]
  },
  {
   "cell_type": "code",
   "execution_count": 166,
   "metadata": {
    "collapsed": true
   },
   "outputs": [],
   "source": [
    "df_for_PCA_train <- as.data.frame(prcomp(df_for_PCA_train, rank = 2)$x)\n",
    "df_for_PCA_test <- as.data.frame(prcomp(df_for_PCA_test, rank = 2)$x)"
   ]
  },
  {
   "cell_type": "code",
   "execution_count": 167,
   "metadata": {
    "collapsed": true
   },
   "outputs": [],
   "source": [
    "df_train.results <- as.data.frame(train.results)[,c('y','predict')]\n",
    "df_test.results <- as.data.frame(test.results)[,c('y','predict')]"
   ]
  },
  {
   "cell_type": "markdown",
   "metadata": {},
   "source": [
    "$3.$ Add the actual y and predicted columns"
   ]
  },
  {
   "cell_type": "code",
   "execution_count": 168,
   "metadata": {
    "collapsed": true
   },
   "outputs": [],
   "source": [
    "df_for_PCA_train$y  <- df_train.results$y\n",
    "df_for_PCA_train$predict  <- df_train.results$predict\n",
    "\n",
    "df_for_PCA_test$y  <- df_test.results$y\n",
    "df_for_PCA_test$predict  <- df_test.results$predict"
   ]
  },
  {
   "cell_type": "code",
   "execution_count": null,
   "metadata": {
    "collapsed": true
   },
   "outputs": [],
   "source": []
  },
  {
   "cell_type": "code",
   "execution_count": 169,
   "metadata": {},
   "outputs": [
    {
     "data": {
      "text/html": [
       "<table>\n",
       "<thead><tr><th scope=col>PC1</th><th scope=col>PC2</th><th scope=col>y</th><th scope=col>predict</th></tr></thead>\n",
       "<tbody>\n",
       "\t<tr><td> 1.4665198</td><td> 0.1946395</td><td>0         </td><td>0         </td></tr>\n",
       "\t<tr><td>-0.1781264</td><td>-1.7033101</td><td>1         </td><td>1         </td></tr>\n",
       "\t<tr><td>-0.3508654</td><td> 1.4856720</td><td>0         </td><td>0         </td></tr>\n",
       "</tbody>\n",
       "</table>\n"
      ],
      "text/latex": [
       "\\begin{tabular}{r|llll}\n",
       " PC1 & PC2 & y & predict\\\\\n",
       "\\hline\n",
       "\t  1.4665198 &  0.1946395 & 0          & 0         \\\\\n",
       "\t -0.1781264 & -1.7033101 & 1          & 1         \\\\\n",
       "\t -0.3508654 &  1.4856720 & 0          & 0         \\\\\n",
       "\\end{tabular}\n"
      ],
      "text/markdown": [
       "\n",
       "PC1 | PC2 | y | predict | \n",
       "|---|---|---|\n",
       "|  1.4665198 |  0.1946395 | 0          | 0          | \n",
       "| -0.1781264 | -1.7033101 | 1          | 1          | \n",
       "| -0.3508654 |  1.4856720 | 0          | 0          | \n",
       "\n",
       "\n"
      ],
      "text/plain": [
       "  PC1        PC2        y predict\n",
       "1  1.4665198  0.1946395 0 0      \n",
       "2 -0.1781264 -1.7033101 1 1      \n",
       "3 -0.3508654  1.4856720 0 0      "
      ]
     },
     "metadata": {},
     "output_type": "display_data"
    }
   ],
   "source": [
    "head(df_for_PCA_train,3)"
   ]
  },
  {
   "cell_type": "code",
   "execution_count": 170,
   "metadata": {},
   "outputs": [
    {
     "data": {
      "text/html": [
       "<ol class=list-inline>\n",
       "\t<li>285200</li>\n",
       "\t<li>4</li>\n",
       "</ol>\n"
      ],
      "text/latex": [
       "\\begin{enumerate*}\n",
       "\\item 285200\n",
       "\\item 4\n",
       "\\end{enumerate*}\n"
      ],
      "text/markdown": [
       "1. 285200\n",
       "2. 4\n",
       "\n",
       "\n"
      ],
      "text/plain": [
       "[1] 285200      4"
      ]
     },
     "metadata": {},
     "output_type": "display_data"
    }
   ],
   "source": [
    "dim(df_for_PCA_train)"
   ]
  },
  {
   "cell_type": "code",
   "execution_count": 171,
   "metadata": {
    "collapsed": true
   },
   "outputs": [],
   "source": [
    "names(df_for_PCA_train)[1] <- 'PCA_x'\n",
    "names(df_for_PCA_train)[2] <- 'PCA_y'\n",
    "\n",
    "names(df_for_PCA_test)[1] <- 'PCA_x'\n",
    "names(df_for_PCA_test)[2] <- 'PCA_y'"
   ]
  },
  {
   "cell_type": "code",
   "execution_count": 172,
   "metadata": {},
   "outputs": [
    {
     "data": {
      "text/html": [
       "<table>\n",
       "<thead><tr><th scope=col>PCA_x</th><th scope=col>PCA_y</th><th scope=col>y</th><th scope=col>predict</th></tr></thead>\n",
       "<tbody>\n",
       "\t<tr><td>0.2346980 </td><td> 1.3800326</td><td>0         </td><td>0         </td></tr>\n",
       "\t<tr><td>1.9410030 </td><td> 1.1292070</td><td>0         </td><td>0         </td></tr>\n",
       "\t<tr><td>0.3064564 </td><td>-0.2260145</td><td>0         </td><td>0         </td></tr>\n",
       "</tbody>\n",
       "</table>\n"
      ],
      "text/latex": [
       "\\begin{tabular}{r|llll}\n",
       " PCA\\_x & PCA\\_y & y & predict\\\\\n",
       "\\hline\n",
       "\t 0.2346980  &  1.3800326 & 0          & 0         \\\\\n",
       "\t 1.9410030  &  1.1292070 & 0          & 0         \\\\\n",
       "\t 0.3064564  & -0.2260145 & 0          & 0         \\\\\n",
       "\\end{tabular}\n"
      ],
      "text/markdown": [
       "\n",
       "PCA_x | PCA_y | y | predict | \n",
       "|---|---|---|\n",
       "| 0.2346980  |  1.3800326 | 0          | 0          | \n",
       "| 1.9410030  |  1.1292070 | 0          | 0          | \n",
       "| 0.3064564  | -0.2260145 | 0          | 0          | \n",
       "\n",
       "\n"
      ],
      "text/plain": [
       "  PCA_x     PCA_y      y predict\n",
       "1 0.2346980  1.3800326 0 0      \n",
       "2 1.9410030  1.1292070 0 0      \n",
       "3 0.3064564 -0.2260145 0 0      "
      ]
     },
     "metadata": {},
     "output_type": "display_data"
    }
   ],
   "source": [
    "head(df_for_PCA_test,3)"
   ]
  },
  {
   "cell_type": "code",
   "execution_count": null,
   "metadata": {
    "collapsed": true
   },
   "outputs": [],
   "source": []
  },
  {
   "cell_type": "code",
   "execution_count": 173,
   "metadata": {},
   "outputs": [
    {
     "data": {
      "text/html": [
       "<ol class=list-inline>\n",
       "\t<li>71300</li>\n",
       "\t<li>4</li>\n",
       "</ol>\n"
      ],
      "text/latex": [
       "\\begin{enumerate*}\n",
       "\\item 71300\n",
       "\\item 4\n",
       "\\end{enumerate*}\n"
      ],
      "text/markdown": [
       "1. 71300\n",
       "2. 4\n",
       "\n",
       "\n"
      ],
      "text/plain": [
       "[1] 71300     4"
      ]
     },
     "metadata": {},
     "output_type": "display_data"
    }
   ],
   "source": [
    "dim(df_for_PCA_test)"
   ]
  },
  {
   "cell_type": "code",
   "execution_count": null,
   "metadata": {
    "collapsed": true
   },
   "outputs": [],
   "source": []
  },
  {
   "cell_type": "markdown",
   "metadata": {},
   "source": [
    "$4.$ Plot the decision boundaries on 2D PCA plots"
   ]
  },
  {
   "cell_type": "code",
   "execution_count": 174,
   "metadata": {
    "collapsed": true
   },
   "outputs": [],
   "source": [
    "library(ggplot2)\n",
    "library(gridExtra) # for grid.arrange()"
   ]
  },
  {
   "cell_type": "code",
   "execution_count": 175,
   "metadata": {
    "scrolled": false
   },
   "outputs": [
    {
     "data": {
      "image/png": "[encoded data removed]",
      "text/plain": [
       "plot without title"
      ]
     },
     "metadata": {},
     "output_type": "display_data"
    }
   ],
   "source": [
    "plot_test_predict <- ggplot(df_for_PCA_train,aes(x=PCA_x,y=PCA_y, col = predict)) +\n",
    "geom_point() +\n",
    "ggtitle('Training Set: Non-Compliance Predictions')\n",
    "\n",
    "plot_test_y <- ggplot(df_for_PCA_train,aes(x=PCA_x,y=PCA_y, col = y)) +\n",
    "geom_point() +\n",
    "ggtitle('Training Set: Non-Compliance True Labels')\n",
    "\n",
    "options(repr.plot.width=10, repr.plot.height=4)\n",
    "grid.arrange(plot_test_predict,\n",
    "             plot_test_y,\n",
    "             ncol = 2\n",
    "            )"
   ]
  },
  {
   "cell_type": "code",
   "execution_count": null,
   "metadata": {
    "collapsed": true
   },
   "outputs": [],
   "source": []
  },
  {
   "cell_type": "code",
   "execution_count": 176,
   "metadata": {},
   "outputs": [
    {
     "data": {
      "image/png": "[encoded data removed]",
      "text/plain": [
       "plot without title"
      ]
     },
     "metadata": {},
     "output_type": "display_data"
    }
   ],
   "source": [
    "plot_test_predict <- ggplot(df_for_PCA_test,aes(x=PCA_x,y=PCA_y, col = predict)) +\n",
    "geom_point() +\n",
    "ggtitle('Test Set: Non-Compliance Predictions')\n",
    "\n",
    "plot_test_y <- ggplot(df_for_PCA_test,aes(x=PCA_x,y=PCA_y, col = y)) +\n",
    "geom_point() +\n",
    "ggtitle('Test Set: Non-Compliance True Labels')\n",
    "\n",
    "options(repr.plot.width=10, repr.plot.height=4)\n",
    "grid.arrange(plot_test_predict,\n",
    "             plot_test_y,\n",
    "             ncol = 2\n",
    "            )"
   ]
  },
  {
   "cell_type": "markdown",
   "metadata": {},
   "source": [
    "__Observations__\n",
    "\n",
    "The legend has\n",
    "\n",
    "- Red for class 0 (compliant records) \n",
    "\n",
    "- Blue for class 1 (non-compliant records)\n",
    "\n",
    "We want the distribution of red and blue dots to be the same on the left and right graphs (predict and actual values) for both the training set and the test set\n",
    "\n",
    "Visually this appears to be what has happened, indicating our model was able to successfully classify many of the non-compliant records even though in the test set they only made up a small proportion of the data (~5%)\n",
    "\n",
    "See below for a quantitative analysis of the results."
   ]
  },
  {
   "cell_type": "markdown",
   "metadata": {},
   "source": [
    "### 4.2 Confusion Matrix"
   ]
  },
  {
   "cell_type": "code",
   "execution_count": 178,
   "metadata": {
    "collapsed": true
   },
   "outputs": [],
   "source": [
    "# re-write class labels 0 and 1\n",
    "df_test.results$y = ifelse(df_test.results$y==1,'Y=1', 'Y=0')\n",
    "df_test.results$predict = ifelse(df_test.results$predict==1,'Pred=1', 'Pred=0')"
   ]
  },
  {
   "cell_type": "code",
   "execution_count": 179,
   "metadata": {},
   "outputs": [
    {
     "data": {
      "text/html": [
       "<table>\n",
       "<thead><tr><th scope=col>y</th><th scope=col>predict</th></tr></thead>\n",
       "<tbody>\n",
       "\t<tr><td>Y=0   </td><td>Pred=0</td></tr>\n",
       "\t<tr><td>Y=0   </td><td>Pred=0</td></tr>\n",
       "\t<tr><td>Y=0   </td><td>Pred=0</td></tr>\n",
       "</tbody>\n",
       "</table>\n"
      ],
      "text/latex": [
       "\\begin{tabular}{r|ll}\n",
       " y & predict\\\\\n",
       "\\hline\n",
       "\t Y=0    & Pred=0\\\\\n",
       "\t Y=0    & Pred=0\\\\\n",
       "\t Y=0    & Pred=0\\\\\n",
       "\\end{tabular}\n"
      ],
      "text/markdown": [
       "\n",
       "y | predict | \n",
       "|---|---|---|\n",
       "| Y=0    | Pred=0 | \n",
       "| Y=0    | Pred=0 | \n",
       "| Y=0    | Pred=0 | \n",
       "\n",
       "\n"
      ],
      "text/plain": [
       "  y   predict\n",
       "1 Y=0 Pred=0 \n",
       "2 Y=0 Pred=0 \n",
       "3 Y=0 Pred=0 "
      ]
     },
     "metadata": {},
     "output_type": "display_data"
    }
   ],
   "source": [
    "head(df_test.results,3)"
   ]
  },
  {
   "cell_type": "code",
   "execution_count": 181,
   "metadata": {},
   "outputs": [
    {
     "data": {
      "text/plain": [
       "        \n",
       "           Y=0   Y=1\n",
       "  Pred=0 66002  2481\n",
       "  Pred=1  2320   497"
      ]
     },
     "metadata": {},
     "output_type": "display_data"
    }
   ],
   "source": [
    "conf.matrix <- table(df_test.results$predict,df_test.results$y)\n",
    "conf.matrix"
   ]
  },
  {
   "cell_type": "code",
   "execution_count": 182,
   "metadata": {
    "collapsed": true
   },
   "outputs": [],
   "source": [
    "TP <- conf.matrix['Pred=1','Y=1']\n",
    "TN <- conf.matrix['Pred=0','Y=0']\n",
    "\n",
    "FP <- conf.matrix['Pred=1','Y=0']\n",
    "FN <- conf.matrix['Pred=0','Y=1']"
   ]
  },
  {
   "cell_type": "code",
   "execution_count": 183,
   "metadata": {},
   "outputs": [
    {
     "data": {
      "text/html": [
       "93.3"
      ],
      "text/latex": [
       "93.3"
      ],
      "text/markdown": [
       "93.3"
      ],
      "text/plain": [
       "[1] 93.3"
      ]
     },
     "metadata": {},
     "output_type": "display_data"
    }
   ],
   "source": [
    "accuracy <- (TP + TN) / (TP+TN+FP+FN)\n",
    "round(accuracy*100,1)"
   ]
  },
  {
   "cell_type": "code",
   "execution_count": 184,
   "metadata": {},
   "outputs": [
    {
     "data": {
      "text/html": [
       "17.6"
      ],
      "text/latex": [
       "17.6"
      ],
      "text/markdown": [
       "17.6"
      ],
      "text/plain": [
       "[1] 17.6"
      ]
     },
     "metadata": {},
     "output_type": "display_data"
    }
   ],
   "source": [
    "precision <- (TP ) / (TP + FP)\n",
    "round(precision*100,1)"
   ]
  },
  {
   "cell_type": "code",
   "execution_count": 185,
   "metadata": {},
   "outputs": [
    {
     "data": {
      "text/html": [
       "16.7"
      ],
      "text/latex": [
       "16.7"
      ],
      "text/markdown": [
       "16.7"
      ],
      "text/plain": [
       "[1] 16.7"
      ]
     },
     "metadata": {},
     "output_type": "display_data"
    }
   ],
   "source": [
    "recall <- (TP ) / (TP + FN)\n",
    "round(recall*100,1)"
   ]
  },
  {
   "cell_type": "markdown",
   "metadata": {},
   "source": [
    "### Write Model Metrics To File"
   ]
  },
  {
   "cell_type": "code",
   "execution_count": 186,
   "metadata": {
    "collapsed": true
   },
   "outputs": [],
   "source": [
    "split2.ratio.up = 0.3"
   ]
  },
  {
   "cell_type": "code",
   "execution_count": 187,
   "metadata": {
    "collapsed": true
   },
   "outputs": [],
   "source": [
    "df_NN_stats <- data.frame(\n",
    "    NN.layers = 'c(60,20,10)',epochs=NN.epochs, accuracy= accuracy, precision = precision, recall=recall, split2.ratio.up=split2.ratio.up)"
   ]
  },
  {
   "cell_type": "code",
   "execution_count": 188,
   "metadata": {},
   "outputs": [
    {
     "data": {
      "text/html": [
       "<table>\n",
       "<thead><tr><th scope=col>NN.layers</th><th scope=col>epochs</th><th scope=col>accuracy</th><th scope=col>precision</th><th scope=col>recall</th><th scope=col>split2.ratio.up</th></tr></thead>\n",
       "<tbody>\n",
       "\t<tr><td>c(60,20,10)</td><td>100        </td><td>0.9326648  </td><td>0.1764288  </td><td>0.1668905  </td><td>0.3        </td></tr>\n",
       "</tbody>\n",
       "</table>\n"
      ],
      "text/latex": [
       "\\begin{tabular}{r|llllll}\n",
       " NN.layers & epochs & accuracy & precision & recall & split2.ratio.up\\\\\n",
       "\\hline\n",
       "\t c(60,20,10) & 100         & 0.9326648   & 0.1764288   & 0.1668905   & 0.3        \\\\\n",
       "\\end{tabular}\n"
      ],
      "text/markdown": [
       "\n",
       "NN.layers | epochs | accuracy | precision | recall | split2.ratio.up | \n",
       "|---|\n",
       "| c(60,20,10) | 100         | 0.9326648   | 0.1764288   | 0.1668905   | 0.3         | \n",
       "\n",
       "\n"
      ],
      "text/plain": [
       "  NN.layers   epochs accuracy  precision recall    split2.ratio.up\n",
       "1 c(60,20,10) 100    0.9326648 0.1764288 0.1668905 0.3            "
      ]
     },
     "metadata": {},
     "output_type": "display_data"
    }
   ],
   "source": [
    "df_NN_stats"
   ]
  },
  {
   "cell_type": "code",
   "execution_count": 189,
   "metadata": {
    "collapsed": true
   },
   "outputs": [],
   "source": [
    "# first one only\n",
    "#write.table(df_NN_stats, 'NN_models_stats.csv', sep = \",\", row.names = FALSE)"
   ]
  },
  {
   "cell_type": "code",
   "execution_count": 191,
   "metadata": {
    "collapsed": true
   },
   "outputs": [],
   "source": [
    "# usually just append instead of rewriting the file\n",
    "write.table(df_NN_stats, 'NN_models_stats.csv', col.names = FALSE, append = TRUE, sep = ',', row.names = FALSE)"
   ]
  },
  {
   "cell_type": "code",
   "execution_count": null,
   "metadata": {
    "collapsed": true
   },
   "outputs": [],
   "source": [
    "# how many h2o objects do we have?\n",
    "dim(h2o.ls())"
   ]
  },
  {
   "cell_type": "code",
   "execution_count": null,
   "metadata": {
    "collapsed": true
   },
   "outputs": [],
   "source": [
    "# shutdown the h2o cluster\n",
    "h2o.shutdown()"
   ]
  },
  {
   "cell_type": "code",
   "execution_count": null,
   "metadata": {
    "collapsed": true
   },
   "outputs": [],
   "source": []
  }
 ],
 "metadata": {
  "kernelspec": {
   "display_name": "R",
   "language": "R",
   "name": "ir"
  },
  "language_info": {
   "codemirror_mode": "r",
   "file_extension": ".r",
   "mimetype": "text/x-r-source",
   "name": "R",
   "pygments_lexer": "r",
   "version": "3.4.3"
  }
 },
 "nbformat": 4,
 "nbformat_minor": 1
}
