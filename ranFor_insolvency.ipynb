{
 "cells": [
  {
   "cell_type": "markdown",
   "metadata": {},
   "source": [
    "![](./altis_logo_HD.png)"
   ]
  },
  {
   "cell_type": "markdown",
   "metadata": {},
   "source": [
    "![](./govhack_logo.png)"
   ]
  },
  {
   "cell_type": "markdown",
   "metadata": {},
   "source": [
    "# <center> Project: Insolvency, Facts vs Spin <center>"
   ]
  },
  {
   "cell_type": "markdown",
   "metadata": {},
   "source": [
    "##  <center> Jupyter Notebook 1/2 - Random Forest Classification (Python) <center>"
   ]
  },
  {
   "cell_type": "markdown",
   "metadata": {},
   "source": [
    "## 1. Import Libraries & Files"
   ]
  },
  {
   "cell_type": "code",
   "execution_count": 1,
   "metadata": {
    "collapsed": true
   },
   "outputs": [],
   "source": [
    "import pandas as pd\n",
    "import numpy as np\n",
    "from matplotlib import pyplot as plt\n",
    "%matplotlib inline"
   ]
  },
  {
   "cell_type": "code",
   "execution_count": 20,
   "metadata": {
    "collapsed": true
   },
   "outputs": [],
   "source": [
    "from copy import copy"
   ]
  },
  {
   "cell_type": "code",
   "execution_count": 2,
   "metadata": {
    "collapsed": true
   },
   "outputs": [],
   "source": [
    "from sklearn.model_selection import train_test_split, ShuffleSplit\n",
    "from sklearn.model_selection import cross_val_score"
   ]
  },
  {
   "cell_type": "code",
   "execution_count": 3,
   "metadata": {
    "collapsed": true
   },
   "outputs": [],
   "source": [
    "from sklearn.ensemble import RandomForestClassifier"
   ]
  },
  {
   "cell_type": "code",
   "execution_count": 4,
   "metadata": {},
   "outputs": [
    {
     "name": "stderr",
     "output_type": "stream",
     "text": [
      "C:\\Program Files\\Anaconda3\\lib\\site-packages\\IPython\\core\\interactiveshell.py:2717: DtypeWarning: Columns (17,18,19,21,22) have mixed types. Specify dtype option on import or set low_memory=False.\n",
      "  interactivity=interactivity, compiler=compiler, result=result)\n"
     ]
    }
   ],
   "source": [
    "df_dataset = pd.read_csv('non-compliance-in-personal-insolvencies.csv')"
   ]
  },
  {
   "cell_type": "code",
   "execution_count": 5,
   "metadata": {},
   "outputs": [
    {
     "data": {
      "text/plain": [
       "(356500, 23)"
      ]
     },
     "execution_count": 5,
     "metadata": {},
     "output_type": "execute_result"
    }
   ],
   "source": [
    "df_dataset.shape"
   ]
  },
  {
   "cell_type": "code",
   "execution_count": 6,
   "metadata": {},
   "outputs": [
    {
     "data": {
      "text/html": [
       "<div>\n",
       "<style>\n",
       "    .dataframe thead tr:only-child th {\n",
       "        text-align: right;\n",
       "    }\n",
       "\n",
       "    .dataframe thead th {\n",
       "        text-align: left;\n",
       "    }\n",
       "\n",
       "    .dataframe tbody tr th {\n",
       "        vertical-align: top;\n",
       "    }\n",
       "</style>\n",
       "<table border=\"1\" class=\"dataframe\">\n",
       "  <thead>\n",
       "    <tr style=\"text-align: right;\">\n",
       "      <th></th>\n",
       "      <th>Unique ID</th>\n",
       "      <th>Calendar Year of Insolvency</th>\n",
       "      <th>SA3 of Debtor</th>\n",
       "      <th>SA3 Code of Debtor</th>\n",
       "      <th>GCCSA of Debtor</th>\n",
       "      <th>GCCSA Code of Debtor</th>\n",
       "      <th>State of Debtor</th>\n",
       "      <th>Sex of Debtor</th>\n",
       "      <th>Family Situation</th>\n",
       "      <th>Debtor Occupation Code (ANZSCO)</th>\n",
       "      <th>...</th>\n",
       "      <th>Debtor Income</th>\n",
       "      <th>Primary Income Source</th>\n",
       "      <th>Unsecured Debts</th>\n",
       "      <th>Value of Assets</th>\n",
       "      <th>Type of Party</th>\n",
       "      <th>Non-Compliance Type</th>\n",
       "      <th>Result of Non-Compliance</th>\n",
       "      <th>Number of Instances</th>\n",
       "      <th>Outcome of Non-Compliance</th>\n",
       "      <th>Non-Compliance Conviction Result</th>\n",
       "    </tr>\n",
       "  </thead>\n",
       "  <tbody>\n",
       "    <tr>\n",
       "      <th>0</th>\n",
       "      <td>3452750</td>\n",
       "      <td>2010</td>\n",
       "      <td>South Canberra</td>\n",
       "      <td>80106</td>\n",
       "      <td>Australian Capital Territory</td>\n",
       "      <td>8ACTE</td>\n",
       "      <td>Australian Capital Territory</td>\n",
       "      <td>Female</td>\n",
       "      <td>Single with Dependants</td>\n",
       "      <td>39.0</td>\n",
       "      <td>...</td>\n",
       "      <td>$0-$49999</td>\n",
       "      <td>Government benefits/Pensions</td>\n",
       "      <td>$0-$49999</td>\n",
       "      <td>$0-$49999</td>\n",
       "      <td>NaN</td>\n",
       "      <td>NaN</td>\n",
       "      <td>NaN</td>\n",
       "      <td>NaN</td>\n",
       "      <td>NaN</td>\n",
       "      <td>NaN</td>\n",
       "    </tr>\n",
       "    <tr>\n",
       "      <th>1</th>\n",
       "      <td>3563908</td>\n",
       "      <td>2011</td>\n",
       "      <td>Weston Creek</td>\n",
       "      <td>80108</td>\n",
       "      <td>Australian Capital Territory</td>\n",
       "      <td>8ACTE</td>\n",
       "      <td>Australian Capital Territory</td>\n",
       "      <td>Male</td>\n",
       "      <td>Couple without Dependants</td>\n",
       "      <td>84.0</td>\n",
       "      <td>...</td>\n",
       "      <td>$0-$49999</td>\n",
       "      <td>Government benefits/Pensions</td>\n",
       "      <td>$0-$49999</td>\n",
       "      <td>$0-$49999</td>\n",
       "      <td>NaN</td>\n",
       "      <td>NaN</td>\n",
       "      <td>NaN</td>\n",
       "      <td>NaN</td>\n",
       "      <td>NaN</td>\n",
       "      <td>NaN</td>\n",
       "    </tr>\n",
       "  </tbody>\n",
       "</table>\n",
       "<p>2 rows × 23 columns</p>\n",
       "</div>"
      ],
      "text/plain": [
       "   Unique ID  Calendar Year of Insolvency   SA3 of Debtor  SA3 Code of Debtor  \\\n",
       "0    3452750                         2010  South Canberra               80106   \n",
       "1    3563908                         2011    Weston Creek               80108   \n",
       "\n",
       "                GCCSA of Debtor GCCSA Code of Debtor  \\\n",
       "0  Australian Capital Territory                8ACTE   \n",
       "1  Australian Capital Territory                8ACTE   \n",
       "\n",
       "                State of Debtor Sex of Debtor           Family Situation  \\\n",
       "0  Australian Capital Territory        Female     Single with Dependants   \n",
       "1  Australian Capital Territory          Male  Couple without Dependants   \n",
       "\n",
       "   Debtor Occupation Code (ANZSCO)               ...                 \\\n",
       "0                             39.0               ...                  \n",
       "1                             84.0               ...                  \n",
       "\n",
       "  Debtor Income         Primary Income Source Unsecured Debts Value of Assets  \\\n",
       "0     $0-$49999  Government benefits/Pensions       $0-$49999       $0-$49999   \n",
       "1     $0-$49999  Government benefits/Pensions       $0-$49999       $0-$49999   \n",
       "\n",
       "  Type of Party Non-Compliance Type Result of Non-Compliance  \\\n",
       "0           NaN                 NaN                      NaN   \n",
       "1           NaN                 NaN                      NaN   \n",
       "\n",
       "  Number of Instances Outcome of Non-Compliance  \\\n",
       "0                 NaN                       NaN   \n",
       "1                 NaN                       NaN   \n",
       "\n",
       "  Non-Compliance Conviction Result  \n",
       "0                              NaN  \n",
       "1                              NaN  \n",
       "\n",
       "[2 rows x 23 columns]"
      ]
     },
     "execution_count": 6,
     "metadata": {},
     "output_type": "execute_result"
    }
   ],
   "source": [
    "df_dataset.head(2)"
   ]
  },
  {
   "cell_type": "code",
   "execution_count": 7,
   "metadata": {},
   "outputs": [
    {
     "data": {
      "text/plain": [
       "Index(['Unique ID', 'Calendar Year of Insolvency', 'SA3 of Debtor',\n",
       "       'SA3 Code of Debtor', 'GCCSA of Debtor', 'GCCSA Code of Debtor',\n",
       "       'State of Debtor', 'Sex of Debtor', 'Family Situation',\n",
       "       'Debtor Occupation Code (ANZSCO)', 'Debtor Occupation Name (ANZSCO)',\n",
       "       'Main Cause of Insolvency', 'Business Related Insolvency',\n",
       "       'Debtor Income', 'Primary Income Source', 'Unsecured Debts',\n",
       "       'Value of Assets', 'Type of Party', 'Non-Compliance Type',\n",
       "       'Result of Non-Compliance', 'Number of Instances',\n",
       "       'Outcome of Non-Compliance', 'Non-Compliance Conviction Result'],\n",
       "      dtype='object')"
      ]
     },
     "execution_count": 7,
     "metadata": {},
     "output_type": "execute_result"
    }
   ],
   "source": [
    "df_dataset.columns"
   ]
  },
  {
   "cell_type": "markdown",
   "metadata": {},
   "source": [
    "## 2. Non-Compliance Classification (Random Forest)"
   ]
  },
  {
   "cell_type": "markdown",
   "metadata": {},
   "source": [
    "### 2.1 Data Wrangling"
   ]
  },
  {
   "cell_type": "markdown",
   "metadata": {},
   "source": [
    "We want a simple classification of compliance/non-compliance based on the columns common to all records.\n",
    "\n",
    "$1.$ Create a new binary valued column __'Compliant (Y/N)'__ based on whether __'Non-Compliance Type'__ is empty/null or contains a value."
   ]
  },
  {
   "cell_type": "code",
   "execution_count": 8,
   "metadata": {
    "collapsed": true
   },
   "outputs": [],
   "source": [
    "df_dataset['Compliant (Y/N)'] = df_dataset['Non-Compliance Type'].isnull()"
   ]
  },
  {
   "cell_type": "markdown",
   "metadata": {},
   "source": [
    "$2.$ Remove the other non compliant columns so that we are only left with __'Compliant (Y/N)'__ for our target variable."
   ]
  },
  {
   "cell_type": "code",
   "execution_count": 9,
   "metadata": {
    "collapsed": true
   },
   "outputs": [],
   "source": [
    "list_cols_non_compliant = ['Type of Party', 'Non-Compliance Type',\n",
    "       'Result of Non-Compliance', 'Number of Instances',\n",
    "       'Outcome of Non-Compliance', 'Non-Compliance Conviction Result']"
   ]
  },
  {
   "cell_type": "code",
   "execution_count": 10,
   "metadata": {
    "collapsed": true
   },
   "outputs": [],
   "source": [
    "str_target_var = 'Compliant (Y/N)'"
   ]
  },
  {
   "cell_type": "markdown",
   "metadata": {},
   "source": [
    "$3.$ Remove unhelpful input columns (eg unique ids, high correlation with other columns, etc)"
   ]
  },
  {
   "cell_type": "code",
   "execution_count": 11,
   "metadata": {
    "collapsed": true
   },
   "outputs": [],
   "source": [
    "list_cols_useless = ['Unique ID','SA3 Code of Debtor','GCCSA Code of Debtor','Debtor Occupation Code (ANZSCO)']"
   ]
  },
  {
   "cell_type": "code",
   "execution_count": 12,
   "metadata": {
    "collapsed": true
   },
   "outputs": [],
   "source": [
    "# actually remove all chosn columns\n",
    "df_dataset = df_dataset.drop(list_cols_non_compliant, axis = 1).drop(list_cols_useless, axis = 1)"
   ]
  },
  {
   "cell_type": "code",
   "execution_count": 13,
   "metadata": {},
   "outputs": [
    {
     "data": {
      "text/html": [
       "<div>\n",
       "<style>\n",
       "    .dataframe thead tr:only-child th {\n",
       "        text-align: right;\n",
       "    }\n",
       "\n",
       "    .dataframe thead th {\n",
       "        text-align: left;\n",
       "    }\n",
       "\n",
       "    .dataframe tbody tr th {\n",
       "        vertical-align: top;\n",
       "    }\n",
       "</style>\n",
       "<table border=\"1\" class=\"dataframe\">\n",
       "  <thead>\n",
       "    <tr style=\"text-align: right;\">\n",
       "      <th></th>\n",
       "      <th>Calendar Year of Insolvency</th>\n",
       "      <th>SA3 of Debtor</th>\n",
       "      <th>GCCSA of Debtor</th>\n",
       "      <th>State of Debtor</th>\n",
       "      <th>Sex of Debtor</th>\n",
       "      <th>Family Situation</th>\n",
       "      <th>Debtor Occupation Name (ANZSCO)</th>\n",
       "      <th>Main Cause of Insolvency</th>\n",
       "      <th>Business Related Insolvency</th>\n",
       "      <th>Debtor Income</th>\n",
       "      <th>Primary Income Source</th>\n",
       "      <th>Unsecured Debts</th>\n",
       "      <th>Value of Assets</th>\n",
       "      <th>Compliant (Y/N)</th>\n",
       "    </tr>\n",
       "  </thead>\n",
       "  <tbody>\n",
       "    <tr>\n",
       "      <th>0</th>\n",
       "      <td>2010</td>\n",
       "      <td>South Canberra</td>\n",
       "      <td>Australian Capital Territory</td>\n",
       "      <td>Australian Capital Territory</td>\n",
       "      <td>Female</td>\n",
       "      <td>Single with Dependants</td>\n",
       "      <td>Other Technicians and Trades Workers</td>\n",
       "      <td>Unemployment or loss of income</td>\n",
       "      <td>No</td>\n",
       "      <td>$0-$49999</td>\n",
       "      <td>Government benefits/Pensions</td>\n",
       "      <td>$0-$49999</td>\n",
       "      <td>$0-$49999</td>\n",
       "      <td>True</td>\n",
       "    </tr>\n",
       "    <tr>\n",
       "      <th>1</th>\n",
       "      <td>2011</td>\n",
       "      <td>Weston Creek</td>\n",
       "      <td>Australian Capital Territory</td>\n",
       "      <td>Australian Capital Territory</td>\n",
       "      <td>Male</td>\n",
       "      <td>Couple without Dependants</td>\n",
       "      <td>Farm, Forestry and Garden Workers</td>\n",
       "      <td>Unemployment or loss of income</td>\n",
       "      <td>No</td>\n",
       "      <td>$0-$49999</td>\n",
       "      <td>Government benefits/Pensions</td>\n",
       "      <td>$0-$49999</td>\n",
       "      <td>$0-$49999</td>\n",
       "      <td>True</td>\n",
       "    </tr>\n",
       "  </tbody>\n",
       "</table>\n",
       "</div>"
      ],
      "text/plain": [
       "   Calendar Year of Insolvency   SA3 of Debtor               GCCSA of Debtor  \\\n",
       "0                         2010  South Canberra  Australian Capital Territory   \n",
       "1                         2011    Weston Creek  Australian Capital Territory   \n",
       "\n",
       "                State of Debtor Sex of Debtor           Family Situation  \\\n",
       "0  Australian Capital Territory        Female     Single with Dependants   \n",
       "1  Australian Capital Territory          Male  Couple without Dependants   \n",
       "\n",
       "        Debtor Occupation Name (ANZSCO)        Main Cause of Insolvency  \\\n",
       "0  Other Technicians and Trades Workers  Unemployment or loss of income   \n",
       "1     Farm, Forestry and Garden Workers  Unemployment or loss of income   \n",
       "\n",
       "  Business Related Insolvency Debtor Income         Primary Income Source  \\\n",
       "0                          No     $0-$49999  Government benefits/Pensions   \n",
       "1                          No     $0-$49999  Government benefits/Pensions   \n",
       "\n",
       "  Unsecured Debts Value of Assets  Compliant (Y/N)  \n",
       "0       $0-$49999       $0-$49999             True  \n",
       "1       $0-$49999       $0-$49999             True  "
      ]
     },
     "execution_count": 13,
     "metadata": {},
     "output_type": "execute_result"
    }
   ],
   "source": [
    "df_dataset.head(2)"
   ]
  },
  {
   "cell_type": "markdown",
   "metadata": {},
   "source": [
    "$4.$ Select target variable $y$ and matrix of input variables $X$"
   ]
  },
  {
   "cell_type": "code",
   "execution_count": 14,
   "metadata": {
    "collapsed": true
   },
   "outputs": [],
   "source": [
    "y_all = (df_dataset[str_target_var])\n",
    "X_all = df_dataset.drop(str_target_var,axis = 1)"
   ]
  },
  {
   "cell_type": "markdown",
   "metadata": {},
   "source": [
    "$5.$ Convert categorical columns to matrix using one hot encoding\n",
    "\n",
    "(NB here all $X$ , $y$ columns are categorical)"
   ]
  },
  {
   "cell_type": "code",
   "execution_count": 15,
   "metadata": {
    "collapsed": true
   },
   "outputs": [],
   "source": [
    "# one hot encoding for X_all\n",
    "one_hot_X_all = pd.get_dummies(X_all)"
   ]
  },
  {
   "cell_type": "code",
   "execution_count": 16,
   "metadata": {},
   "outputs": [
    {
     "data": {
      "text/plain": [
       "(356500, 519)"
      ]
     },
     "execution_count": 16,
     "metadata": {},
     "output_type": "execute_result"
    }
   ],
   "source": [
    "one_hot_X_all.shape"
   ]
  },
  {
   "cell_type": "code",
   "execution_count": 17,
   "metadata": {
    "collapsed": true
   },
   "outputs": [],
   "source": [
    "# one hot encoder for y_all\n",
    "# inspired by: https://chrisalbon.com/machine_learning/trees_and_forests/random_forest_classifier_example/\n",
    "one_hot_y_all = pd.factorize(y_all)[0]"
   ]
  },
  {
   "cell_type": "code",
   "execution_count": null,
   "metadata": {
    "collapsed": true
   },
   "outputs": [],
   "source": []
  },
  {
   "cell_type": "code",
   "execution_count": 18,
   "metadata": {},
   "outputs": [
    {
     "data": {
      "text/html": [
       "<div>\n",
       "<style>\n",
       "    .dataframe thead tr:only-child th {\n",
       "        text-align: right;\n",
       "    }\n",
       "\n",
       "    .dataframe thead th {\n",
       "        text-align: left;\n",
       "    }\n",
       "\n",
       "    .dataframe tbody tr th {\n",
       "        vertical-align: top;\n",
       "    }\n",
       "</style>\n",
       "<table border=\"1\" class=\"dataframe\">\n",
       "  <thead>\n",
       "    <tr style=\"text-align: right;\">\n",
       "      <th></th>\n",
       "      <th>Calendar Year of Insolvency</th>\n",
       "      <th>SA3 of Debtor_Adelaide City</th>\n",
       "      <th>SA3 of Debtor_Adelaide Hills</th>\n",
       "      <th>SA3 of Debtor_Albany</th>\n",
       "      <th>SA3 of Debtor_Albury</th>\n",
       "      <th>SA3 of Debtor_Alice Springs</th>\n",
       "      <th>SA3 of Debtor_Armadale</th>\n",
       "      <th>SA3 of Debtor_Armidale</th>\n",
       "      <th>SA3 of Debtor_Auburn</th>\n",
       "      <th>SA3 of Debtor_Augusta - Margaret River - Busselton</th>\n",
       "      <th>...</th>\n",
       "      <th>Value of Assets_$550000-$599999</th>\n",
       "      <th>Value of Assets_$600000-$649999</th>\n",
       "      <th>Value of Assets_$650000-$699999</th>\n",
       "      <th>Value of Assets_$700000-$749999</th>\n",
       "      <th>Value of Assets_$750000-$799999</th>\n",
       "      <th>Value of Assets_$800000-$849999</th>\n",
       "      <th>Value of Assets_$850000-$899999</th>\n",
       "      <th>Value of Assets_$900000-$949999</th>\n",
       "      <th>Value of Assets_$950000-$999999</th>\n",
       "      <th>Value of Assets_More Than $1000000</th>\n",
       "    </tr>\n",
       "  </thead>\n",
       "  <tbody>\n",
       "    <tr>\n",
       "      <th>0</th>\n",
       "      <td>2010</td>\n",
       "      <td>0</td>\n",
       "      <td>0</td>\n",
       "      <td>0</td>\n",
       "      <td>0</td>\n",
       "      <td>0</td>\n",
       "      <td>0</td>\n",
       "      <td>0</td>\n",
       "      <td>0</td>\n",
       "      <td>0</td>\n",
       "      <td>...</td>\n",
       "      <td>0</td>\n",
       "      <td>0</td>\n",
       "      <td>0</td>\n",
       "      <td>0</td>\n",
       "      <td>0</td>\n",
       "      <td>0</td>\n",
       "      <td>0</td>\n",
       "      <td>0</td>\n",
       "      <td>0</td>\n",
       "      <td>0</td>\n",
       "    </tr>\n",
       "    <tr>\n",
       "      <th>1</th>\n",
       "      <td>2011</td>\n",
       "      <td>0</td>\n",
       "      <td>0</td>\n",
       "      <td>0</td>\n",
       "      <td>0</td>\n",
       "      <td>0</td>\n",
       "      <td>0</td>\n",
       "      <td>0</td>\n",
       "      <td>0</td>\n",
       "      <td>0</td>\n",
       "      <td>...</td>\n",
       "      <td>0</td>\n",
       "      <td>0</td>\n",
       "      <td>0</td>\n",
       "      <td>0</td>\n",
       "      <td>0</td>\n",
       "      <td>0</td>\n",
       "      <td>0</td>\n",
       "      <td>0</td>\n",
       "      <td>0</td>\n",
       "      <td>0</td>\n",
       "    </tr>\n",
       "    <tr>\n",
       "      <th>2</th>\n",
       "      <td>2012</td>\n",
       "      <td>0</td>\n",
       "      <td>0</td>\n",
       "      <td>0</td>\n",
       "      <td>0</td>\n",
       "      <td>0</td>\n",
       "      <td>0</td>\n",
       "      <td>0</td>\n",
       "      <td>0</td>\n",
       "      <td>0</td>\n",
       "      <td>...</td>\n",
       "      <td>0</td>\n",
       "      <td>0</td>\n",
       "      <td>0</td>\n",
       "      <td>0</td>\n",
       "      <td>0</td>\n",
       "      <td>0</td>\n",
       "      <td>0</td>\n",
       "      <td>0</td>\n",
       "      <td>0</td>\n",
       "      <td>0</td>\n",
       "    </tr>\n",
       "  </tbody>\n",
       "</table>\n",
       "<p>3 rows × 519 columns</p>\n",
       "</div>"
      ],
      "text/plain": [
       "   Calendar Year of Insolvency  SA3 of Debtor_Adelaide City  \\\n",
       "0                         2010                            0   \n",
       "1                         2011                            0   \n",
       "2                         2012                            0   \n",
       "\n",
       "   SA3 of Debtor_Adelaide Hills  SA3 of Debtor_Albany  SA3 of Debtor_Albury  \\\n",
       "0                             0                     0                     0   \n",
       "1                             0                     0                     0   \n",
       "2                             0                     0                     0   \n",
       "\n",
       "   SA3 of Debtor_Alice Springs  SA3 of Debtor_Armadale  \\\n",
       "0                            0                       0   \n",
       "1                            0                       0   \n",
       "2                            0                       0   \n",
       "\n",
       "   SA3 of Debtor_Armidale  SA3 of Debtor_Auburn  \\\n",
       "0                       0                     0   \n",
       "1                       0                     0   \n",
       "2                       0                     0   \n",
       "\n",
       "   SA3 of Debtor_Augusta - Margaret River - Busselton  \\\n",
       "0                                                  0    \n",
       "1                                                  0    \n",
       "2                                                  0    \n",
       "\n",
       "                  ...                  Value of Assets_$550000-$599999  \\\n",
       "0                 ...                                                0   \n",
       "1                 ...                                                0   \n",
       "2                 ...                                                0   \n",
       "\n",
       "   Value of Assets_$600000-$649999  Value of Assets_$650000-$699999  \\\n",
       "0                                0                                0   \n",
       "1                                0                                0   \n",
       "2                                0                                0   \n",
       "\n",
       "   Value of Assets_$700000-$749999  Value of Assets_$750000-$799999  \\\n",
       "0                                0                                0   \n",
       "1                                0                                0   \n",
       "2                                0                                0   \n",
       "\n",
       "   Value of Assets_$800000-$849999  Value of Assets_$850000-$899999  \\\n",
       "0                                0                                0   \n",
       "1                                0                                0   \n",
       "2                                0                                0   \n",
       "\n",
       "   Value of Assets_$900000-$949999  Value of Assets_$950000-$999999  \\\n",
       "0                                0                                0   \n",
       "1                                0                                0   \n",
       "2                                0                                0   \n",
       "\n",
       "   Value of Assets_More Than $1000000  \n",
       "0                                   0  \n",
       "1                                   0  \n",
       "2                                   0  \n",
       "\n",
       "[3 rows x 519 columns]"
      ]
     },
     "execution_count": 18,
     "metadata": {},
     "output_type": "execute_result"
    }
   ],
   "source": [
    "one_hot_X_all.head(3)"
   ]
  },
  {
   "cell_type": "markdown",
   "metadata": {},
   "source": [
    "$5.$ Export this one hot encoding of $X$ and $y$ to be used by the neural network"
   ]
  },
  {
   "cell_type": "code",
   "execution_count": 21,
   "metadata": {
    "collapsed": true
   },
   "outputs": [],
   "source": [
    "df_export_small_insolvency = copy(one_hot_X_all)"
   ]
  },
  {
   "cell_type": "code",
   "execution_count": 22,
   "metadata": {
    "collapsed": true
   },
   "outputs": [],
   "source": [
    "df_export_small_insolvency['y'] = one_hot_y_all"
   ]
  },
  {
   "cell_type": "code",
   "execution_count": 25,
   "metadata": {
    "collapsed": true
   },
   "outputs": [],
   "source": [
    "# write one hot encoding to csv for use by Neural Networks\n",
    "df_export_small_insolvency.to_csv('one_hot_small_insolvency.csv')"
   ]
  },
  {
   "cell_type": "code",
   "execution_count": null,
   "metadata": {
    "collapsed": true
   },
   "outputs": [],
   "source": []
  },
  {
   "cell_type": "markdown",
   "metadata": {},
   "source": [
    "### 2.2 Random Forest Classification\n",
    "\n",
    "The main motivation for using random forests in python is use\n",
    "\n",
    "\n",
    "\n",
    "```python\n",
    "classifier_rf.feature_importances_\n",
    "```\n",
    "\n",
    "To extract out variable & category importance to obtain some __key indicators of non-compliance__ to explore further. \n",
    "\n",
    "These will be explored in a Power BI report.\n",
    "\n",
    "Note that neural networks will be used for a more powerful classification model so the performance of the random forests is not directly evaluated."
   ]
  },
  {
   "cell_type": "markdown",
   "metadata": {},
   "source": [
    "$1.$ Split the data into 5 folds to get a distribution of 5 values for the feature importance values"
   ]
  },
  {
   "cell_type": "code",
   "execution_count": 26,
   "metadata": {
    "collapsed": true
   },
   "outputs": [],
   "source": [
    "# create shuffle split object\n",
    "shuffle_split_object = ShuffleSplit(n_splits = 5, test_size = 0.2, random_state = 1)"
   ]
  },
  {
   "cell_type": "markdown",
   "metadata": {},
   "source": [
    "$2.$ For each of the 5 folds, train a random forest classifier and record the feature importances"
   ]
  },
  {
   "cell_type": "code",
   "execution_count": 27,
   "metadata": {
    "collapsed": true
   },
   "outputs": [],
   "source": [
    "int_split_counter = 1\n",
    "\n",
    "df_classifier_scores_RF = pd.DataFrame(index = list(one_hot_X_all.columns))\n",
    "\n",
    "for train_idx, test_idx in shuffle_split_object.split(one_hot_X_all):\n",
    "    \n",
    "    \n",
    "    X_train, X_test = one_hot_X_all.loc[train_idx,:], one_hot_X_all.loc[test_idx,:]\n",
    "    y_train, y_test = one_hot_y_all[train_idx], one_hot_y_all[test_idx]\n",
    "    \n",
    "    classifier_rf = RandomForestClassifier()\n",
    "    \n",
    "    classifier_rf.fit(X_train, y_train)\n",
    "    \n",
    "    str_temp_col = 'split-' + str(int_split_counter)\n",
    "    \n",
    "    df_classifier_scores_RF[str_temp_col] = list(classifier_rf.feature_importances_)\n",
    "    #temp_feature_importance = list(classifier_rf.feature_importances_)\n",
    "    \n",
    "    \n",
    "    int_split_counter += 1"
   ]
  },
  {
   "cell_type": "markdown",
   "metadata": {
    "collapsed": true
   },
   "source": [
    "### 2.3 Model Results"
   ]
  },
  {
   "cell_type": "markdown",
   "metadata": {},
   "source": [
    "$1.$ Transform results dataframe"
   ]
  },
  {
   "cell_type": "code",
   "execution_count": 28,
   "metadata": {
    "collapsed": true
   },
   "outputs": [],
   "source": [
    "# copy the feature importance results\n",
    "df_classifier_scores_RF_copy = copy(df_classifier_scores_RF)"
   ]
  },
  {
   "cell_type": "code",
   "execution_count": 29,
   "metadata": {
    "collapsed": true
   },
   "outputs": [],
   "source": [
    "df_classifier_scores_RF_new = df_classifier_scores_RF.reset_index()"
   ]
  },
  {
   "cell_type": "code",
   "execution_count": 30,
   "metadata": {
    "collapsed": true
   },
   "outputs": [],
   "source": [
    "# rename columns\n",
    "df_classifier_scores_RF_new[['Cat Var Name','Cat Var Value']] = df_classifier_scores_RF_new['index'].str.split('_', expand = True)"
   ]
  },
  {
   "cell_type": "code",
   "execution_count": 32,
   "metadata": {
    "collapsed": true
   },
   "outputs": [],
   "source": [
    "(df_classifier_scores_RF_new).drop('index', axis = 1, inplace = True)"
   ]
  },
  {
   "cell_type": "code",
   "execution_count": 31,
   "metadata": {},
   "outputs": [
    {
     "data": {
      "text/html": [
       "<div>\n",
       "<style>\n",
       "    .dataframe thead tr:only-child th {\n",
       "        text-align: right;\n",
       "    }\n",
       "\n",
       "    .dataframe thead th {\n",
       "        text-align: left;\n",
       "    }\n",
       "\n",
       "    .dataframe tbody tr th {\n",
       "        vertical-align: top;\n",
       "    }\n",
       "</style>\n",
       "<table border=\"1\" class=\"dataframe\">\n",
       "  <thead>\n",
       "    <tr style=\"text-align: right;\">\n",
       "      <th></th>\n",
       "      <th>index</th>\n",
       "      <th>split-1</th>\n",
       "      <th>split-2</th>\n",
       "      <th>split-3</th>\n",
       "      <th>split-4</th>\n",
       "      <th>split-5</th>\n",
       "      <th>Cat Var Name</th>\n",
       "      <th>Cat Var Value</th>\n",
       "    </tr>\n",
       "  </thead>\n",
       "  <tbody>\n",
       "    <tr>\n",
       "      <th>0</th>\n",
       "      <td>Calendar Year of Insolvency</td>\n",
       "      <td>0.093418</td>\n",
       "      <td>0.093066</td>\n",
       "      <td>0.093945</td>\n",
       "      <td>0.092907</td>\n",
       "      <td>0.096035</td>\n",
       "      <td>Calendar Year of Insolvency</td>\n",
       "      <td>None</td>\n",
       "    </tr>\n",
       "    <tr>\n",
       "      <th>1</th>\n",
       "      <td>SA3 of Debtor_Adelaide City</td>\n",
       "      <td>0.000824</td>\n",
       "      <td>0.000934</td>\n",
       "      <td>0.000949</td>\n",
       "      <td>0.000798</td>\n",
       "      <td>0.000941</td>\n",
       "      <td>SA3 of Debtor</td>\n",
       "      <td>Adelaide City</td>\n",
       "    </tr>\n",
       "    <tr>\n",
       "      <th>2</th>\n",
       "      <td>SA3 of Debtor_Adelaide Hills</td>\n",
       "      <td>0.000569</td>\n",
       "      <td>0.000682</td>\n",
       "      <td>0.000838</td>\n",
       "      <td>0.000714</td>\n",
       "      <td>0.000706</td>\n",
       "      <td>SA3 of Debtor</td>\n",
       "      <td>Adelaide Hills</td>\n",
       "    </tr>\n",
       "  </tbody>\n",
       "</table>\n",
       "</div>"
      ],
      "text/plain": [
       "                          index   split-1   split-2   split-3   split-4  \\\n",
       "0   Calendar Year of Insolvency  0.093418  0.093066  0.093945  0.092907   \n",
       "1   SA3 of Debtor_Adelaide City  0.000824  0.000934  0.000949  0.000798   \n",
       "2  SA3 of Debtor_Adelaide Hills  0.000569  0.000682  0.000838  0.000714   \n",
       "\n",
       "    split-5                 Cat Var Name   Cat Var Value  \n",
       "0  0.096035  Calendar Year of Insolvency            None  \n",
       "1  0.000941                SA3 of Debtor   Adelaide City  \n",
       "2  0.000706                SA3 of Debtor  Adelaide Hills  "
      ]
     },
     "execution_count": 31,
     "metadata": {},
     "output_type": "execute_result"
    }
   ],
   "source": [
    "df_classifier_scores_RF_new.head(3)"
   ]
  },
  {
   "cell_type": "markdown",
   "metadata": {},
   "source": [
    "$2.$ Create a pivot table to show variable importance boxplots across all 5 splits"
   ]
  },
  {
   "cell_type": "code",
   "execution_count": 39,
   "metadata": {
    "collapsed": true
   },
   "outputs": [],
   "source": [
    "pivtab_class_scores = pd.pivot_table(df_classifier_scores_RF_new, values=['split-1','split-2','split-3','split-4','split-5'],\n",
    "                             index=['Cat Var Name'], aggfunc=np.sum)"
   ]
  },
  {
   "cell_type": "code",
   "execution_count": 40,
   "metadata": {},
   "outputs": [
    {
     "data": {
      "text/html": [
       "<div>\n",
       "<style>\n",
       "    .dataframe thead tr:only-child th {\n",
       "        text-align: right;\n",
       "    }\n",
       "\n",
       "    .dataframe thead th {\n",
       "        text-align: left;\n",
       "    }\n",
       "\n",
       "    .dataframe tbody tr th {\n",
       "        vertical-align: top;\n",
       "    }\n",
       "</style>\n",
       "<table border=\"1\" class=\"dataframe\">\n",
       "  <thead>\n",
       "    <tr style=\"text-align: right;\">\n",
       "      <th></th>\n",
       "      <th>split-1</th>\n",
       "      <th>split-2</th>\n",
       "      <th>split-3</th>\n",
       "      <th>split-4</th>\n",
       "      <th>split-5</th>\n",
       "    </tr>\n",
       "    <tr>\n",
       "      <th>Cat Var Name</th>\n",
       "      <th></th>\n",
       "      <th></th>\n",
       "      <th></th>\n",
       "      <th></th>\n",
       "      <th></th>\n",
       "    </tr>\n",
       "  </thead>\n",
       "  <tbody>\n",
       "    <tr>\n",
       "      <th>Business Related Insolvency</th>\n",
       "      <td>0.022498</td>\n",
       "      <td>0.020996</td>\n",
       "      <td>0.023005</td>\n",
       "      <td>0.024456</td>\n",
       "      <td>0.026978</td>\n",
       "    </tr>\n",
       "    <tr>\n",
       "      <th>Calendar Year of Insolvency</th>\n",
       "      <td>0.093418</td>\n",
       "      <td>0.093066</td>\n",
       "      <td>0.093945</td>\n",
       "      <td>0.092907</td>\n",
       "      <td>0.096035</td>\n",
       "    </tr>\n",
       "  </tbody>\n",
       "</table>\n",
       "</div>"
      ],
      "text/plain": [
       "                              split-1   split-2   split-3   split-4   split-5\n",
       "Cat Var Name                                                                 \n",
       "Business Related Insolvency  0.022498  0.020996  0.023005  0.024456  0.026978\n",
       "Calendar Year of Insolvency  0.093418  0.093066  0.093945  0.092907  0.096035"
      ]
     },
     "execution_count": 40,
     "metadata": {},
     "output_type": "execute_result"
    }
   ],
   "source": [
    "pivtab_class_scores.head(2)"
   ]
  },
  {
   "cell_type": "code",
   "execution_count": 41,
   "metadata": {},
   "outputs": [
    {
     "data": {
      "text/plain": [
       "<matplotlib.axes._subplots.AxesSubplot at 0xbbab80a358>"
      ]
     },
     "execution_count": 41,
     "metadata": {},
     "output_type": "execute_result"
    },
    {
     "data": {
      "image/png": "[encoded data removed]",
      "text/plain": [
       "<matplotlib.figure.Figure at 0xbbab814630>"
      ]
     },
     "metadata": {},
     "output_type": "display_data"
    }
   ],
   "source": [
    "pivtab_class_scores.T.plot(kind = 'box',  figsize = (5,5), vert = False)"
   ]
  },
  {
   "cell_type": "markdown",
   "metadata": {
    "collapsed": true
   },
   "source": [
    "See __Power BI report__ for more visualisations..."
   ]
  },
  {
   "cell_type": "markdown",
   "metadata": {},
   "source": [
    "$3.$ Export variable importance data to csv for use in Power BI"
   ]
  },
  {
   "cell_type": "code",
   "execution_count": 37,
   "metadata": {},
   "outputs": [
    {
     "data": {
      "text/html": [
       "<div>\n",
       "<style>\n",
       "    .dataframe thead tr:only-child th {\n",
       "        text-align: right;\n",
       "    }\n",
       "\n",
       "    .dataframe thead th {\n",
       "        text-align: left;\n",
       "    }\n",
       "\n",
       "    .dataframe tbody tr th {\n",
       "        vertical-align: top;\n",
       "    }\n",
       "</style>\n",
       "<table border=\"1\" class=\"dataframe\">\n",
       "  <thead>\n",
       "    <tr style=\"text-align: right;\">\n",
       "      <th></th>\n",
       "      <th>split-1</th>\n",
       "      <th>split-2</th>\n",
       "      <th>split-3</th>\n",
       "      <th>split-4</th>\n",
       "      <th>split-5</th>\n",
       "      <th>Cat Var Name</th>\n",
       "      <th>Cat Var Value</th>\n",
       "    </tr>\n",
       "  </thead>\n",
       "  <tbody>\n",
       "    <tr>\n",
       "      <th>0</th>\n",
       "      <td>0.093418</td>\n",
       "      <td>0.093066</td>\n",
       "      <td>0.093945</td>\n",
       "      <td>0.092907</td>\n",
       "      <td>0.096035</td>\n",
       "      <td>Calendar Year of Insolvency</td>\n",
       "      <td>None</td>\n",
       "    </tr>\n",
       "    <tr>\n",
       "      <th>1</th>\n",
       "      <td>0.000824</td>\n",
       "      <td>0.000934</td>\n",
       "      <td>0.000949</td>\n",
       "      <td>0.000798</td>\n",
       "      <td>0.000941</td>\n",
       "      <td>SA3 of Debtor</td>\n",
       "      <td>Adelaide City</td>\n",
       "    </tr>\n",
       "    <tr>\n",
       "      <th>2</th>\n",
       "      <td>0.000569</td>\n",
       "      <td>0.000682</td>\n",
       "      <td>0.000838</td>\n",
       "      <td>0.000714</td>\n",
       "      <td>0.000706</td>\n",
       "      <td>SA3 of Debtor</td>\n",
       "      <td>Adelaide Hills</td>\n",
       "    </tr>\n",
       "  </tbody>\n",
       "</table>\n",
       "</div>"
      ],
      "text/plain": [
       "    split-1   split-2   split-3   split-4   split-5  \\\n",
       "0  0.093418  0.093066  0.093945  0.092907  0.096035   \n",
       "1  0.000824  0.000934  0.000949  0.000798  0.000941   \n",
       "2  0.000569  0.000682  0.000838  0.000714  0.000706   \n",
       "\n",
       "                  Cat Var Name   Cat Var Value  \n",
       "0  Calendar Year of Insolvency            None  \n",
       "1                SA3 of Debtor   Adelaide City  \n",
       "2                SA3 of Debtor  Adelaide Hills  "
      ]
     },
     "execution_count": 37,
     "metadata": {},
     "output_type": "execute_result"
    }
   ],
   "source": [
    "df_classifier_scores_RF_new.head(3)"
   ]
  },
  {
   "cell_type": "code",
   "execution_count": 38,
   "metadata": {
    "collapsed": true
   },
   "outputs": [],
   "source": [
    "df_classifier_scores_RF_new.to_csv('PyRF_dash2_suburbs.csv')"
   ]
  },
  {
   "cell_type": "code",
   "execution_count": null,
   "metadata": {
    "collapsed": true
   },
   "outputs": [],
   "source": []
  },
  {
   "cell_type": "code",
   "execution_count": null,
   "metadata": {
    "collapsed": true
   },
   "outputs": [],
   "source": []
  }
 ],
 "metadata": {
  "kernelspec": {
   "display_name": "Python 3",
   "language": "python",
   "name": "python3"
  },
  "language_info": {
   "codemirror_mode": {
    "name": "ipython",
    "version": 3
   },
   "file_extension": ".py",
   "mimetype": "text/x-python",
   "name": "python",
   "nbconvert_exporter": "python",
   "pygments_lexer": "ipython3",
   "version": "3.6.1"
  }
 },
 "nbformat": 4,
 "nbformat_minor": 2
}
